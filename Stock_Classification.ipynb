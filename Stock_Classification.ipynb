{
  "nbformat": 4,
  "nbformat_minor": 0,
  "metadata": {
    "colab": {
      "name": "Stock Classification.ipynb",
      "provenance": [],
      "collapsed_sections": []
    },
    "kernelspec": {
      "name": "python3",
      "display_name": "Python 3"
    },
    "language_info": {
      "name": "python"
    }
  },
  "cells": [
    {
      "cell_type": "code",
      "metadata": {
        "id": "drWbWb1TjJ6A"
      },
      "source": [
        "# Importing the libraries\n",
        "import numpy as np\n",
        "import matplotlib.pyplot as plt\n",
        "import pandas as pd"
      ],
      "execution_count": null,
      "outputs": []
    },
    {
      "cell_type": "code",
      "metadata": {
        "id": "P5cGgh5_jT5F"
      },
      "source": [
        "# Importing the dataset\n",
        "dataset = pd.read_csv('Sheet-Classification.csv')\n",
        "X = dataset.iloc[:, [2,3,4,6,7,8,9,10,11]].values\n",
        "y = dataset.iloc[:, 12].values"
      ],
      "execution_count": null,
      "outputs": []
    },
    {
      "cell_type": "code",
      "metadata": {
        "colab": {
          "base_uri": "https://localhost:8080/"
        },
        "id": "mK556G5LlMME",
        "outputId": "61661a73-d192-48b5-9154-12dac4042d85"
      },
      "source": [
        "X[0]"
      ],
      "execution_count": null,
      "outputs": [
        {
          "output_type": "execute_result",
          "data": {
            "text/plain": [
              "array([  1. ,  30. ,  15. ,  19. ,  83. ,  40. ,  28. ,   2.4, 147. ])"
            ]
          },
          "metadata": {
            "tags": []
          },
          "execution_count": 3
        }
      ]
    },
    {
      "cell_type": "code",
      "metadata": {
        "colab": {
          "base_uri": "https://localhost:8080/"
        },
        "id": "mrVGPd6KlSqr",
        "outputId": "fde9bd6d-e301-4764-8e58-5eaff0572573"
      },
      "source": [
        "y[0]"
      ],
      "execution_count": null,
      "outputs": [
        {
          "output_type": "execute_result",
          "data": {
            "text/plain": [
              "1"
            ]
          },
          "metadata": {
            "tags": []
          },
          "execution_count": 4
        }
      ]
    },
    {
      "cell_type": "code",
      "metadata": {
        "colab": {
          "base_uri": "https://localhost:8080/"
        },
        "id": "Rzs-kpLalXZ8",
        "outputId": "9fb7b846-304e-4f33-fc39-debd655679c9"
      },
      "source": [
        "print(X[:10])"
      ],
      "execution_count": null,
      "outputs": [
        {
          "output_type": "stream",
          "text": [
            "[[  1.   30.   15.   19.   83.   40.   28.    2.4 147. ]\n",
            " [ 10.  225.   10.    7.   98.   43.    3.    2.6 129. ]\n",
            " [  5.  225.    2.   11.   89.   25.    0.    0.8 379. ]\n",
            " [ 10.  150.    4.    6.   98.   66.   11.    1.4  64. ]\n",
            " [  5.   24.   10.   33.   91.  105.   11.    2.6 376. ]\n",
            " [ 15.  200.    1.   27.   87.    8.    6.    1.3  71. ]\n",
            " [ 10.   20.    1.    8.   91.   57.   29.    1.7  24. ]\n",
            " [  3.   35.    7.   15.   92.   13.   27.    2.   25. ]\n",
            " [  5.    5.    8.   20.   92.   16.   38.    1.  300. ]\n",
            " [ 20.   65.    4.   12.   98.   21.    0.    1.4 120. ]]\n"
          ],
          "name": "stdout"
        }
      ]
    },
    {
      "cell_type": "code",
      "metadata": {
        "id": "4KBk3Ls7lvfy"
      },
      "source": [
        "# Splitting the dataset into the Training set and Test set\n",
        "from sklearn.model_selection import train_test_split\n",
        "X_train, X_test, y_train, y_test = train_test_split(X, y, test_size = 0.2, random_state = 0)"
      ],
      "execution_count": null,
      "outputs": []
    },
    {
      "cell_type": "code",
      "metadata": {
        "id": "BK79a7SOl1eE"
      },
      "source": [
        "# Feature Scaling\n",
        "from sklearn.preprocessing import StandardScaler\n",
        "sc = StandardScaler()\n",
        "X_train = sc.fit_transform(X_train)\n",
        "X_test = sc.transform(X_test)"
      ],
      "execution_count": null,
      "outputs": []
    },
    {
      "cell_type": "code",
      "metadata": {
        "colab": {
          "base_uri": "https://localhost:8080/"
        },
        "id": "qjhsEOt6l3kp",
        "outputId": "f8fb319c-f273-455a-f93a-3cf6cf74f1bb"
      },
      "source": [
        "# Fitting Decision Tree Classification to the Training set\n",
        "from sklearn.tree import DecisionTreeClassifier\n",
        "classifier = DecisionTreeClassifier(criterion = 'entropy', random_state = 0)\n",
        "classifier.fit(X_train, y_train)"
      ],
      "execution_count": null,
      "outputs": [
        {
          "output_type": "execute_result",
          "data": {
            "text/plain": [
              "DecisionTreeClassifier(ccp_alpha=0.0, class_weight=None, criterion='entropy',\n",
              "                       max_depth=None, max_features=None, max_leaf_nodes=None,\n",
              "                       min_impurity_decrease=0.0, min_impurity_split=None,\n",
              "                       min_samples_leaf=1, min_samples_split=2,\n",
              "                       min_weight_fraction_leaf=0.0, presort='deprecated',\n",
              "                       random_state=0, splitter='best')"
            ]
          },
          "metadata": {
            "tags": []
          },
          "execution_count": 29
        }
      ]
    },
    {
      "cell_type": "code",
      "metadata": {
        "colab": {
          "base_uri": "https://localhost:8080/"
        },
        "id": "H7esSVerl737",
        "outputId": "1b316a10-a16a-47de-db76-56ce7b27a1e9"
      },
      "source": [
        "# Fitting Kernel SVM to the Training set\n",
        "from sklearn.svm import SVC\n",
        "classifier = SVC(kernel = 'rbf', random_state = 0)\n",
        "classifier.fit(X_train, y_train)"
      ],
      "execution_count": null,
      "outputs": [
        {
          "output_type": "execute_result",
          "data": {
            "text/plain": [
              "SVC(C=1.0, break_ties=False, cache_size=200, class_weight=None, coef0=0.0,\n",
              "    decision_function_shape='ovr', degree=3, gamma='scale', kernel='rbf',\n",
              "    max_iter=-1, probability=False, random_state=0, shrinking=True, tol=0.001,\n",
              "    verbose=False)"
            ]
          },
          "metadata": {
            "tags": []
          },
          "execution_count": 13
        }
      ]
    },
    {
      "cell_type": "code",
      "metadata": {
        "colab": {
          "base_uri": "https://localhost:8080/"
        },
        "id": "DGWpgFeFl9z3",
        "outputId": "6d60b273-5b69-470c-c861-7dbabc064a44"
      },
      "source": [
        "# Fitting K-NN to the Training set\n",
        "from sklearn.neighbors import KNeighborsClassifier\n",
        "classifier = KNeighborsClassifier(n_neighbors = 5, metric = 'minkowski', p = 2)\n",
        "classifier.fit(X_train, y_train)"
      ],
      "execution_count": null,
      "outputs": [
        {
          "output_type": "execute_result",
          "data": {
            "text/plain": [
              "KNeighborsClassifier(algorithm='auto', leaf_size=30, metric='minkowski',\n",
              "                     metric_params=None, n_jobs=None, n_neighbors=5, p=2,\n",
              "                     weights='uniform')"
            ]
          },
          "metadata": {
            "tags": []
          },
          "execution_count": 17
        }
      ]
    },
    {
      "cell_type": "code",
      "metadata": {
        "colab": {
          "base_uri": "https://localhost:8080/"
        },
        "id": "dWMzYzSMmC6w",
        "outputId": "4c41900e-877e-4e23-b82d-ea01ef420857"
      },
      "source": [
        "# Fitting Random Forest Classification to the Training set\n",
        "from sklearn.ensemble import RandomForestClassifier\n",
        "classifier = RandomForestClassifier(n_estimators = 10, criterion = 'entropy', random_state = 0)\n",
        "classifier.fit(X_train, y_train)"
      ],
      "execution_count": null,
      "outputs": [
        {
          "output_type": "execute_result",
          "data": {
            "text/plain": [
              "RandomForestClassifier(bootstrap=True, ccp_alpha=0.0, class_weight=None,\n",
              "                       criterion='entropy', max_depth=None, max_features='auto',\n",
              "                       max_leaf_nodes=None, max_samples=None,\n",
              "                       min_impurity_decrease=0.0, min_impurity_split=None,\n",
              "                       min_samples_leaf=1, min_samples_split=2,\n",
              "                       min_weight_fraction_leaf=0.0, n_estimators=10,\n",
              "                       n_jobs=None, oob_score=False, random_state=0, verbose=0,\n",
              "                       warm_start=False)"
            ]
          },
          "metadata": {
            "tags": []
          },
          "execution_count": 21
        }
      ]
    },
    {
      "cell_type": "code",
      "metadata": {
        "colab": {
          "base_uri": "https://localhost:8080/"
        },
        "id": "_qEm0DxzmFPu",
        "outputId": "f9ac7138-ce53-4a33-8ab7-7672f79b6728"
      },
      "source": [
        "# Fitting Naive Bayes to the Training set\n",
        "from sklearn.naive_bayes import GaussianNB\n",
        "classifier = GaussianNB()\n",
        "classifier.fit(X_train, y_train)"
      ],
      "execution_count": null,
      "outputs": [
        {
          "output_type": "execute_result",
          "data": {
            "text/plain": [
              "GaussianNB(priors=None, var_smoothing=1e-09)"
            ]
          },
          "metadata": {
            "tags": []
          },
          "execution_count": 25
        }
      ]
    },
    {
      "cell_type": "code",
      "metadata": {
        "colab": {
          "base_uri": "https://localhost:8080/"
        },
        "id": "a_2699tHmHae",
        "outputId": "4287673c-ff84-40bc-d7ba-a451d3cb0bce"
      },
      "source": [
        "# Predicting the Test set results\n",
        "y_pred = classifier.predict(X_test)\n",
        "np.set_printoptions(precision=2)\n",
        "number_of_tests = 9\n",
        "print(np.concatenate((y_pred.reshape(len(y_pred),1), y_test.reshape(len(y_test),1)),1)[:number_of_tests])"
      ],
      "execution_count": null,
      "outputs": [
        {
          "output_type": "stream",
          "text": [
            "[[1 1]\n",
            " [0 1]\n",
            " [0 0]\n",
            " [1 1]\n",
            " [1 1]\n",
            " [0 1]\n",
            " [1 1]\n",
            " [1 1]\n",
            " [0 0]]\n"
          ],
          "name": "stdout"
        }
      ]
    },
    {
      "cell_type": "code",
      "metadata": {
        "colab": {
          "base_uri": "https://localhost:8080/"
        },
        "id": "RL6fz1PPmf_w",
        "outputId": "7559bf7a-6422-4431-e3e3-9f2a7bd3bdef"
      },
      "source": [
        "# Making the Confusion Matrix\n",
        "from sklearn.metrics import confusion_matrix\n",
        "cm = confusion_matrix(y_test, y_pred)\n",
        "print(cm)"
      ],
      "execution_count": null,
      "outputs": [
        {
          "output_type": "stream",
          "text": [
            "[[2 0]\n",
            " [2 5]]\n"
          ],
          "name": "stdout"
        }
      ]
    },
    {
      "cell_type": "code",
      "metadata": {
        "colab": {
          "base_uri": "https://localhost:8080/"
        },
        "id": "czI-d4uimgub",
        "outputId": "6dfd3723-4710-4390-9065-1bc4df264191"
      },
      "source": [
        "#print(classifier.predict(sc.transform([[FG, EG, QF, WEEKS, RS, IR, ROE, U/D, VOL]])))\n",
        "print(classifier.predict(sc.transform([[ 15, 100, 8,   10,  97, 13, 29,  1.7, 106]])))"
      ],
      "execution_count": null,
      "outputs": [
        {
          "output_type": "stream",
          "text": [
            "[1]\n"
          ],
          "name": "stdout"
        }
      ]
    },
    {
      "cell_type": "code",
      "metadata": {
        "id": "nW7WRItIpmdL"
      },
      "source": [
        ""
      ],
      "execution_count": null,
      "outputs": []
    },
    {
      "cell_type": "code",
      "metadata": {
        "colab": {
          "base_uri": "https://localhost:8080/"
        },
        "id": "MN4x5c7tpnD7",
        "outputId": "7fdd3660-c198-43ff-efe1-3b96e20b07c4"
      },
      "source": [
        "# Building the optimal model using Backward Elimination\n",
        "import statsmodels.api as sm"
      ],
      "execution_count": null,
      "outputs": [
        {
          "output_type": "stream",
          "text": [
            "/usr/local/lib/python3.7/dist-packages/statsmodels/tools/_testing.py:19: FutureWarning: pandas.util.testing is deprecated. Use the functions in the public API at pandas.testing instead.\n",
            "  import pandas.util.testing as tm\n"
          ],
          "name": "stderr"
        }
      ]
    },
    {
      "cell_type": "code",
      "metadata": {
        "id": "5uEpxP_apvOt"
      },
      "source": [
        "X = np.append(arr = np.ones((len(X), 1)).astype(int), values = X, axis = 1)"
      ],
      "execution_count": null,
      "outputs": []
    },
    {
      "cell_type": "code",
      "metadata": {
        "colab": {
          "base_uri": "https://localhost:8080/"
        },
        "id": "7KfCQYF8pxpa",
        "outputId": "354ce7cd-4c07-4ca6-f89d-8674045390f0"
      },
      "source": [
        "X[:10]"
      ],
      "execution_count": null,
      "outputs": [
        {
          "output_type": "execute_result",
          "data": {
            "text/plain": [
              "array([[  1. ,   1. ,  30. ,  15. ,  19. ,  83. ,  40. ,  28. ,   2.4,\n",
              "        147. ],\n",
              "       [  1. ,  10. , 225. ,  10. ,   7. ,  98. ,  43. ,   3. ,   2.6,\n",
              "        129. ],\n",
              "       [  1. ,   5. , 225. ,   2. ,  11. ,  89. ,  25. ,   0. ,   0.8,\n",
              "        379. ],\n",
              "       [  1. ,  10. , 150. ,   4. ,   6. ,  98. ,  66. ,  11. ,   1.4,\n",
              "         64. ],\n",
              "       [  1. ,   5. ,  24. ,  10. ,  33. ,  91. , 105. ,  11. ,   2.6,\n",
              "        376. ],\n",
              "       [  1. ,  15. , 200. ,   1. ,  27. ,  87. ,   8. ,   6. ,   1.3,\n",
              "         71. ],\n",
              "       [  1. ,  10. ,  20. ,   1. ,   8. ,  91. ,  57. ,  29. ,   1.7,\n",
              "         24. ],\n",
              "       [  1. ,   3. ,  35. ,   7. ,  15. ,  92. ,  13. ,  27. ,   2. ,\n",
              "         25. ],\n",
              "       [  1. ,   5. ,   5. ,   8. ,  20. ,  92. ,  16. ,  38. ,   1. ,\n",
              "        300. ],\n",
              "       [  1. ,  20. ,  65. ,   4. ,  12. ,  98. ,  21. ,   0. ,   1.4,\n",
              "        120. ]])"
            ]
          },
          "metadata": {
            "tags": []
          },
          "execution_count": 35
        }
      ]
    },
    {
      "cell_type": "code",
      "metadata": {
        "colab": {
          "base_uri": "https://localhost:8080/"
        },
        "id": "lgHYsRuvp4Wj",
        "outputId": "a213850c-583e-4810-d69d-8c950a891d97"
      },
      "source": [
        "X_opt = X[:, [0, 1, 2, 3, 4, 5, 6, 7, 8, 9]]\n",
        "X_opt = X_opt.astype(np.float64)\n",
        "classifier_OLS = sm.OLS(endog = y, exog = X_opt).fit()\n",
        "print(classifier_OLS.summary())"
      ],
      "execution_count": null,
      "outputs": [
        {
          "output_type": "stream",
          "text": [
            "                            OLS Regression Results                            \n",
            "==============================================================================\n",
            "Dep. Variable:                      y   R-squared:                       0.413\n",
            "Model:                            OLS   Adj. R-squared:                  0.258\n",
            "Method:                 Least Squares   F-statistic:                     2.662\n",
            "Date:                Fri, 25 Jun 2021   Prob (F-statistic):             0.0187\n",
            "Time:                        18:49:27   Log-Likelihood:                -19.034\n",
            "No. Observations:                  44   AIC:                             58.07\n",
            "Df Residuals:                      34   BIC:                             75.91\n",
            "Df Model:                           9                                         \n",
            "Covariance Type:            nonrobust                                         \n",
            "==============================================================================\n",
            "                 coef    std err          t      P>|t|      [0.025      0.975]\n",
            "------------------------------------------------------------------------------\n",
            "const         -1.2684      0.845     -1.501      0.142      -2.985       0.448\n",
            "x1            -0.0037      0.013     -0.275      0.785      -0.031       0.023\n",
            "x2             0.0012      0.001      1.371      0.179      -0.001       0.003\n",
            "x3            -0.0010      0.002     -0.509      0.614      -0.005       0.003\n",
            "x4             0.0089      0.004      2.023      0.051   -4.21e-05       0.018\n",
            "x5             0.0147      0.009      1.670      0.104      -0.003       0.033\n",
            "x6             0.0008      0.002      0.361      0.720      -0.004       0.005\n",
            "x7            -0.0035      0.005     -0.698      0.490      -0.014       0.007\n",
            "x8             0.1982      0.147      1.349      0.186      -0.100       0.497\n",
            "x9             0.0009      0.000      1.854      0.072   -8.84e-05       0.002\n",
            "==============================================================================\n",
            "Omnibus:                        5.017   Durbin-Watson:                   2.133\n",
            "Prob(Omnibus):                  0.081   Jarque-Bera (JB):                1.982\n",
            "Skew:                          -0.069   Prob(JB):                        0.371\n",
            "Kurtosis:                       1.970   Cond. No.                     2.58e+03\n",
            "==============================================================================\n",
            "\n",
            "Warnings:\n",
            "[1] Standard Errors assume that the covariance matrix of the errors is correctly specified.\n",
            "[2] The condition number is large, 2.58e+03. This might indicate that there are\n",
            "strong multicollinearity or other numerical problems.\n"
          ],
          "name": "stdout"
        }
      ]
    },
    {
      "cell_type": "code",
      "metadata": {
        "colab": {
          "base_uri": "https://localhost:8080/"
        },
        "id": "ysgz2VgFqhYs",
        "outputId": "a0649970-ee3d-47f9-f4d4-1692c5789cc0"
      },
      "source": [
        "X[0][6]"
      ],
      "execution_count": null,
      "outputs": [
        {
          "output_type": "execute_result",
          "data": {
            "text/plain": [
              "40.0"
            ]
          },
          "metadata": {
            "tags": []
          },
          "execution_count": 39
        }
      ]
    },
    {
      "cell_type": "code",
      "metadata": {
        "colab": {
          "base_uri": "https://localhost:8080/"
        },
        "id": "B_ZemS1gqB_F",
        "outputId": "92279066-0fa1-41bf-bfb3-9bd4ef988108"
      },
      "source": [
        "#NO FG\n",
        "X_opt = X[:, [0, 2, 3, 4, 5, 6, 7, 8, 9]]\n",
        "X_opt = X_opt.astype(np.float64)\n",
        "classifier_OLS = sm.OLS(endog = y, exog = X_opt).fit()\n",
        "print(classifier_OLS.summary())"
      ],
      "execution_count": null,
      "outputs": [
        {
          "output_type": "stream",
          "text": [
            "                            OLS Regression Results                            \n",
            "==============================================================================\n",
            "Dep. Variable:                      y   R-squared:                       0.412\n",
            "Model:                            OLS   Adj. R-squared:                  0.278\n",
            "Method:                 Least Squares   F-statistic:                     3.066\n",
            "Date:                Fri, 25 Jun 2021   Prob (F-statistic):             0.0100\n",
            "Time:                        18:51:26   Log-Likelihood:                -19.083\n",
            "No. Observations:                  44   AIC:                             56.17\n",
            "Df Residuals:                      35   BIC:                             72.22\n",
            "Df Model:                           8                                         \n",
            "Covariance Type:            nonrobust                                         \n",
            "==============================================================================\n",
            "                 coef    std err          t      P>|t|      [0.025      0.975]\n",
            "------------------------------------------------------------------------------\n",
            "const         -1.2725      0.833     -1.527      0.136      -2.964       0.419\n",
            "x1             0.0012      0.001      1.373      0.179      -0.001       0.003\n",
            "x2            -0.0011      0.002     -0.587      0.561      -0.005       0.003\n",
            "x3             0.0092      0.004      2.207      0.034       0.001       0.018\n",
            "x4             0.0144      0.009      1.670      0.104      -0.003       0.032\n",
            "x5             0.0008      0.002      0.363      0.719      -0.004       0.005\n",
            "x6            -0.0032      0.005     -0.670      0.507      -0.013       0.007\n",
            "x7             0.2001      0.145      1.382      0.176      -0.094       0.494\n",
            "x8             0.0009      0.000      1.887      0.068   -7.02e-05       0.002\n",
            "==============================================================================\n",
            "Omnibus:                        4.292   Durbin-Watson:                   2.112\n",
            "Prob(Omnibus):                  0.117   Jarque-Bera (JB):                1.862\n",
            "Skew:                          -0.097   Prob(JB):                        0.394\n",
            "Kurtosis:                       2.011   Cond. No.                     2.58e+03\n",
            "==============================================================================\n",
            "\n",
            "Warnings:\n",
            "[1] Standard Errors assume that the covariance matrix of the errors is correctly specified.\n",
            "[2] The condition number is large, 2.58e+03. This might indicate that there are\n",
            "strong multicollinearity or other numerical problems.\n"
          ],
          "name": "stdout"
        }
      ]
    },
    {
      "cell_type": "code",
      "metadata": {
        "colab": {
          "base_uri": "https://localhost:8080/"
        },
        "id": "U1dW8VkRqzpl",
        "outputId": "091fff94-b6d6-402e-bd81-3b6035e0ae3d"
      },
      "source": [
        "#NO IR\n",
        "X_opt = X[:, [0, 2, 3, 4, 5, 7, 8, 9]]\n",
        "X_opt = X_opt.astype(np.float64)\n",
        "classifier_OLS = sm.OLS(endog = y, exog = X_opt).fit()\n",
        "print(classifier_OLS.summary())"
      ],
      "execution_count": null,
      "outputs": [
        {
          "output_type": "stream",
          "text": [
            "                            OLS Regression Results                            \n",
            "==============================================================================\n",
            "Dep. Variable:                      y   R-squared:                       0.410\n",
            "Model:                            OLS   Adj. R-squared:                  0.295\n",
            "Method:                 Least Squares   F-statistic:                     3.572\n",
            "Date:                Fri, 25 Jun 2021   Prob (F-statistic):            0.00511\n",
            "Time:                        18:54:53   Log-Likelihood:                -19.166\n",
            "No. Observations:                  44   AIC:                             54.33\n",
            "Df Residuals:                      36   BIC:                             68.61\n",
            "Df Model:                           7                                         \n",
            "Covariance Type:            nonrobust                                         \n",
            "==============================================================================\n",
            "                 coef    std err          t      P>|t|      [0.025      0.975]\n",
            "------------------------------------------------------------------------------\n",
            "const         -1.1284      0.724     -1.558      0.128      -2.597       0.340\n",
            "x1             0.0012      0.001      1.441      0.158      -0.001       0.003\n",
            "x2            -0.0010      0.002     -0.570      0.572      -0.005       0.003\n",
            "x3             0.0090      0.004      2.205      0.034       0.001       0.017\n",
            "x4             0.0131      0.008      1.693      0.099      -0.003       0.029\n",
            "x5            -0.0033      0.005     -0.688      0.496      -0.013       0.006\n",
            "x6             0.2062      0.142      1.451      0.156      -0.082       0.494\n",
            "x7             0.0009      0.000      1.906      0.065   -5.89e-05       0.002\n",
            "==============================================================================\n",
            "Omnibus:                        4.575   Durbin-Watson:                   2.116\n",
            "Prob(Omnibus):                  0.102   Jarque-Bera (JB):                1.936\n",
            "Skew:                          -0.111   Prob(JB):                        0.380\n",
            "Kurtosis:                       1.996   Cond. No.                     2.22e+03\n",
            "==============================================================================\n",
            "\n",
            "Warnings:\n",
            "[1] Standard Errors assume that the covariance matrix of the errors is correctly specified.\n",
            "[2] The condition number is large, 2.22e+03. This might indicate that there are\n",
            "strong multicollinearity or other numerical problems.\n"
          ],
          "name": "stdout"
        }
      ]
    },
    {
      "cell_type": "code",
      "metadata": {
        "colab": {
          "base_uri": "https://localhost:8080/"
        },
        "id": "BBcEKsuXrSix",
        "outputId": "d3cf70ac-1513-4d8a-d4de-6e4f4b35b21f"
      },
      "source": [
        "print(X[0][3])"
      ],
      "execution_count": null,
      "outputs": [
        {
          "output_type": "stream",
          "text": [
            "15.0\n"
          ],
          "name": "stdout"
        }
      ]
    },
    {
      "cell_type": "code",
      "metadata": {
        "colab": {
          "base_uri": "https://localhost:8080/"
        },
        "id": "HF0pm2VbrMLM",
        "outputId": "bc8dad8f-535d-424a-cdc0-6e215849432f"
      },
      "source": [
        "#NO QUALITY FUNDS\n",
        "X_opt = X[:, [0, 2, 4, 5, 7, 8, 9]]\n",
        "X_opt = X_opt.astype(np.float64)\n",
        "classifier_OLS = sm.OLS(endog = y, exog = X_opt).fit()\n",
        "print(classifier_OLS.summary())"
      ],
      "execution_count": null,
      "outputs": [
        {
          "output_type": "stream",
          "text": [
            "                            OLS Regression Results                            \n",
            "==============================================================================\n",
            "Dep. Variable:                      y   R-squared:                       0.405\n",
            "Model:                            OLS   Adj. R-squared:                  0.308\n",
            "Method:                 Least Squares   F-statistic:                     4.189\n",
            "Date:                Fri, 25 Jun 2021   Prob (F-statistic):            0.00260\n",
            "Time:                        18:57:58   Log-Likelihood:                -19.363\n",
            "No. Observations:                  44   AIC:                             52.73\n",
            "Df Residuals:                      37   BIC:                             65.22\n",
            "Df Model:                           6                                         \n",
            "Covariance Type:            nonrobust                                         \n",
            "==============================================================================\n",
            "                 coef    std err          t      P>|t|      [0.025      0.975]\n",
            "------------------------------------------------------------------------------\n",
            "const         -1.2240      0.698     -1.754      0.088      -2.638       0.190\n",
            "x1             0.0013      0.001      1.618      0.114      -0.000       0.003\n",
            "x2             0.0093      0.004      2.285      0.028       0.001       0.017\n",
            "x3             0.0134      0.008      1.761      0.087      -0.002       0.029\n",
            "x4            -0.0030      0.005     -0.634      0.530      -0.012       0.007\n",
            "x5             0.2162      0.140      1.547      0.130      -0.067       0.499\n",
            "x6             0.0009      0.000      1.961      0.057   -3.11e-05       0.002\n",
            "==============================================================================\n",
            "Omnibus:                        5.144   Durbin-Watson:                   2.059\n",
            "Prob(Omnibus):                  0.076   Jarque-Bera (JB):                1.987\n",
            "Skew:                          -0.040   Prob(JB):                        0.370\n",
            "Kurtosis:                       1.962   Cond. No.                     2.15e+03\n",
            "==============================================================================\n",
            "\n",
            "Warnings:\n",
            "[1] Standard Errors assume that the covariance matrix of the errors is correctly specified.\n",
            "[2] The condition number is large, 2.15e+03. This might indicate that there are\n",
            "strong multicollinearity or other numerical problems.\n"
          ],
          "name": "stdout"
        }
      ]
    },
    {
      "cell_type": "code",
      "metadata": {
        "colab": {
          "base_uri": "https://localhost:8080/"
        },
        "id": "hJW8GuUPrXa-",
        "outputId": "2e9616aa-8914-4d93-f9bb-3370e9993d55"
      },
      "source": [
        "print(X[0][7])"
      ],
      "execution_count": null,
      "outputs": [
        {
          "output_type": "stream",
          "text": [
            "28.0\n"
          ],
          "name": "stdout"
        }
      ]
    },
    {
      "cell_type": "code",
      "metadata": {
        "colab": {
          "base_uri": "https://localhost:8080/"
        },
        "id": "jQ3x3CtRrXkR",
        "outputId": "e64497f6-e561-42d3-e8dd-62398cffbc36"
      },
      "source": [
        "#NO ROE\n",
        "X_opt = X[:, [0, 2, 4, 5, 8, 9]]\n",
        "X_opt = X_opt.astype(np.float64)\n",
        "classifier_OLS = sm.OLS(endog = y, exog = X_opt).fit()\n",
        "print(classifier_OLS.summary())"
      ],
      "execution_count": null,
      "outputs": [
        {
          "output_type": "stream",
          "text": [
            "                            OLS Regression Results                            \n",
            "==============================================================================\n",
            "Dep. Variable:                      y   R-squared:                       0.398\n",
            "Model:                            OLS   Adj. R-squared:                  0.319\n",
            "Method:                 Least Squares   F-statistic:                     5.026\n",
            "Date:                Fri, 25 Jun 2021   Prob (F-statistic):            0.00125\n",
            "Time:                        18:58:42   Log-Likelihood:                -19.601\n",
            "No. Observations:                  44   AIC:                             51.20\n",
            "Df Residuals:                      38   BIC:                             61.91\n",
            "Df Model:                           5                                         \n",
            "Covariance Type:            nonrobust                                         \n",
            "==============================================================================\n",
            "                 coef    std err          t      P>|t|      [0.025      0.975]\n",
            "------------------------------------------------------------------------------\n",
            "const         -1.3933      0.640     -2.178      0.036      -2.688      -0.098\n",
            "x1             0.0016      0.001      2.097      0.043     5.4e-05       0.003\n",
            "x2             0.0086      0.004      2.214      0.033       0.001       0.017\n",
            "x3             0.0150      0.007      2.090      0.043       0.000       0.029\n",
            "x4             0.1956      0.135      1.451      0.155      -0.077       0.469\n",
            "x5             0.0009      0.000      1.980      0.055   -2.09e-05       0.002\n",
            "==============================================================================\n",
            "Omnibus:                        6.145   Durbin-Watson:                   2.056\n",
            "Prob(Omnibus):                  0.046   Jarque-Bera (JB):                2.154\n",
            "Skew:                          -0.018   Prob(JB):                        0.341\n",
            "Kurtosis:                       1.917   Cond. No.                     1.98e+03\n",
            "==============================================================================\n",
            "\n",
            "Warnings:\n",
            "[1] Standard Errors assume that the covariance matrix of the errors is correctly specified.\n",
            "[2] The condition number is large, 1.98e+03. This might indicate that there are\n",
            "strong multicollinearity or other numerical problems.\n"
          ],
          "name": "stdout"
        }
      ]
    },
    {
      "cell_type": "code",
      "metadata": {
        "colab": {
          "base_uri": "https://localhost:8080/"
        },
        "id": "O7XmKOe-ruks",
        "outputId": "762f4802-6246-45ac-92f3-9be87c031688"
      },
      "source": [
        "print(X[0][8])"
      ],
      "execution_count": null,
      "outputs": [
        {
          "output_type": "stream",
          "text": [
            "2.4\n"
          ],
          "name": "stdout"
        }
      ]
    },
    {
      "cell_type": "code",
      "metadata": {
        "colab": {
          "base_uri": "https://localhost:8080/"
        },
        "id": "Ub0kiNqVruuN",
        "outputId": "5f705134-2f6f-416c-fb06-32d1edd614bf"
      },
      "source": [
        "#NO U/D\n",
        "X_opt = X[:, [0, 2, 4, 5, 9]]\n",
        "X_opt = X_opt.astype(np.float64)\n",
        "classifier_OLS = sm.OLS(endog = y, exog = X_opt).fit()\n",
        "print(classifier_OLS.summary())"
      ],
      "execution_count": null,
      "outputs": [
        {
          "output_type": "stream",
          "text": [
            "                            OLS Regression Results                            \n",
            "==============================================================================\n",
            "Dep. Variable:                      y   R-squared:                       0.365\n",
            "Model:                            OLS   Adj. R-squared:                  0.300\n",
            "Method:                 Least Squares   F-statistic:                     5.598\n",
            "Date:                Fri, 25 Jun 2021   Prob (F-statistic):            0.00117\n",
            "Time:                        18:59:27   Log-Likelihood:                -20.787\n",
            "No. Observations:                  44   AIC:                             51.57\n",
            "Df Residuals:                      39   BIC:                             60.49\n",
            "Df Model:                           4                                         \n",
            "Covariance Type:            nonrobust                                         \n",
            "==============================================================================\n",
            "                 coef    std err          t      P>|t|      [0.025      0.975]\n",
            "------------------------------------------------------------------------------\n",
            "const         -1.3258      0.647     -2.049      0.047      -2.635      -0.017\n",
            "x1             0.0018      0.001      2.356      0.024       0.000       0.003\n",
            "x2             0.0089      0.004      2.258      0.030       0.001       0.017\n",
            "x3             0.0171      0.007      2.411      0.021       0.003       0.031\n",
            "x4             0.0010      0.000      1.978      0.055   -2.14e-05       0.002\n",
            "==============================================================================\n",
            "Omnibus:                        4.698   Durbin-Watson:                   1.848\n",
            "Prob(Omnibus):                  0.095   Jarque-Bera (JB):                1.930\n",
            "Skew:                          -0.081   Prob(JB):                        0.381\n",
            "Kurtosis:                       1.987   Cond. No.                     1.98e+03\n",
            "==============================================================================\n",
            "\n",
            "Warnings:\n",
            "[1] Standard Errors assume that the covariance matrix of the errors is correctly specified.\n",
            "[2] The condition number is large, 1.98e+03. This might indicate that there are\n",
            "strong multicollinearity or other numerical problems.\n"
          ],
          "name": "stdout"
        }
      ]
    },
    {
      "cell_type": "code",
      "metadata": {
        "id": "FCdF_Qjjiw0V"
      },
      "source": [
        "#**BEST FEATURES: EG, WEEKS, RS, VOL B.O."
      ],
      "execution_count": null,
      "outputs": []
    },
    {
      "cell_type": "code",
      "metadata": {
        "id": "Ff9O_DSMsKVQ"
      },
      "source": [
        "#**GOOD FEATURES: EG, WEEKS, U/D, VOL B.O."
      ],
      "execution_count": null,
      "outputs": []
    },
    {
      "cell_type": "code",
      "metadata": {
        "id": "CcmacWiutqdP",
        "colab": {
          "base_uri": "https://localhost:8080/"
        },
        "outputId": "d86f9333-9b45-40a9-94da-faabe5119a1f"
      },
      "source": [
        "#NO VOL B.O.\n",
        "X_opt = X[:, [0, 2, 4, 5]]\n",
        "X_opt = X_opt.astype(np.float64)\n",
        "classifier_OLS = sm.OLS(endog = y, exog = X_opt).fit()\n",
        "print(classifier_OLS.summary())"
      ],
      "execution_count": null,
      "outputs": [
        {
          "output_type": "stream",
          "text": [
            "                            OLS Regression Results                            \n",
            "==============================================================================\n",
            "Dep. Variable:                      y   R-squared:                       0.301\n",
            "Model:                            OLS   Adj. R-squared:                  0.249\n",
            "Method:                 Least Squares   F-statistic:                     5.741\n",
            "Date:                Fri, 25 Jun 2021   Prob (F-statistic):            0.00230\n",
            "Time:                        19:02:40   Log-Likelihood:                -22.890\n",
            "No. Observations:                  44   AIC:                             53.78\n",
            "Df Residuals:                      40   BIC:                             60.92\n",
            "Df Model:                           3                                         \n",
            "Covariance Type:            nonrobust                                         \n",
            "==============================================================================\n",
            "                 coef    std err          t      P>|t|      [0.025      0.975]\n",
            "------------------------------------------------------------------------------\n",
            "const         -1.4648      0.666     -2.199      0.034      -2.811      -0.118\n",
            "x1             0.0018      0.001      2.292      0.027       0.000       0.003\n",
            "x2             0.0098      0.004      2.406      0.021       0.002       0.018\n",
            "x3             0.0195      0.007      2.687      0.010       0.005       0.034\n",
            "==============================================================================\n",
            "Omnibus:                        8.242   Durbin-Watson:                   1.883\n",
            "Prob(Omnibus):                  0.016   Jarque-Bera (JB):                2.838\n",
            "Skew:                          -0.249   Prob(JB):                        0.242\n",
            "Kurtosis:                       1.860   Cond. No.                     1.50e+03\n",
            "==============================================================================\n",
            "\n",
            "Warnings:\n",
            "[1] Standard Errors assume that the covariance matrix of the errors is correctly specified.\n",
            "[2] The condition number is large, 1.5e+03. This might indicate that there are\n",
            "strong multicollinearity or other numerical problems.\n"
          ],
          "name": "stdout"
        }
      ]
    }
  ]
}