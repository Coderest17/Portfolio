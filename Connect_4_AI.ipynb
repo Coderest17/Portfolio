{
  "cells": [
    {
      "cell_type": "code",
      "execution_count": 1,
      "metadata": {
        "id": "1HahhuVWeFNA"
      },
      "outputs": [],
      "source": [
        "import numpy as np\n",
        "import copy\n",
        "import math\n",
        "import random"
      ]
    },
    {
      "cell_type": "code",
      "execution_count": 2,
      "metadata": {
        "id": "fIIFm34veFND"
      },
      "outputs": [],
      "source": [
        "def initial_state():\n",
        "    return [[0,0,0,0,0,0,0], [0,0,0,0,0,0,0], \n",
        "        [0,0,0,0,0,0,0], [0,0,0,0,0,0,0], \n",
        "        [0,0,0,0,0,0,0], [0,0,0,0,0,0,0]]"
      ]
    },
    {
      "cell_type": "code",
      "execution_count": 3,
      "metadata": {
        "colab": {
          "base_uri": "https://localhost:8080/"
        },
        "id": "r1Fz4gHHeFNE",
        "outputId": "d7045c5f-18c0-4d75-ce0a-ba2408ad3448"
      },
      "outputs": [
        {
          "output_type": "stream",
          "name": "stdout",
          "text": [
            "[[0 0 0 0 0 0 0]\n",
            " [0 0 0 0 0 0 0]\n",
            " [0 0 0 0 0 0 0]\n",
            " [0 0 0 0 0 0 0]\n",
            " [0 0 0 0 0 0 0]\n",
            " [0 0 0 0 0 0 0]]\n"
          ]
        }
      ],
      "source": [
        "grid = initial_state()\n",
        "print(np.matrix(grid))"
      ]
    },
    {
      "cell_type": "code",
      "execution_count": null,
      "metadata": {
        "id": "HvEOlTTteFNG"
      },
      "outputs": [],
      "source": [
        ""
      ]
    },
    {
      "cell_type": "code",
      "execution_count": 4,
      "metadata": {
        "id": "C5A9e0mmeFNH"
      },
      "outputs": [],
      "source": [
        "def tie(grid): \n",
        "    for i in range(6):\n",
        "        for j in range(7):\n",
        "            if grid[i][j] == 0:\n",
        "                return False\n",
        "    return True"
      ]
    },
    {
      "cell_type": "code",
      "execution_count": 5,
      "metadata": {
        "colab": {
          "base_uri": "https://localhost:8080/"
        },
        "id": "U-_aY6dFeFNI",
        "outputId": "ebc3322f-4719-47fa-9db8-ddc2d0388992"
      },
      "outputs": [
        {
          "output_type": "execute_result",
          "data": {
            "text/plain": [
              "False"
            ]
          },
          "metadata": {},
          "execution_count": 5
        }
      ],
      "source": [
        "tie(grid)"
      ]
    },
    {
      "cell_type": "code",
      "execution_count": 6,
      "metadata": {
        "colab": {
          "base_uri": "https://localhost:8080/"
        },
        "id": "bubB6B8DeFNJ",
        "outputId": "a276f563-810f-46bf-fd95-1b3dd3db766b"
      },
      "outputs": [
        {
          "output_type": "execute_result",
          "data": {
            "text/plain": [
              "[[0, 0, 0, 0, 0, 0, 0],\n",
              " [0, 0, 0, 0, 0, 0, 0],\n",
              " [0, 0, 0, 0, 0, 0, 0],\n",
              " [0, 0, 0, 0, 0, 0, 0]]"
            ]
          },
          "metadata": {},
          "execution_count": 6
        }
      ],
      "source": [
        "grid[0:4]"
      ]
    },
    {
      "cell_type": "code",
      "execution_count": 7,
      "metadata": {
        "id": "AhXU-3yTeFNK"
      },
      "outputs": [],
      "source": [
        "def winner(grid):\n",
        "    #Checking rows:\n",
        "    for i in range(6):\n",
        "        for j in range(4):\n",
        "            if grid[i][j:j+4] == [\"R\",\"R\",\"R\",\"R\"]:\n",
        "                return \"R\"\n",
        "            if grid[i][j:j+4] == [\"Y\",\"Y\",\"Y\",\"Y\"]:\n",
        "                return \"Y\"\n",
        "\n",
        "    #Checking Columns:\n",
        "    for j in range(3):\n",
        "        g = grid[j:j+4]\n",
        "        for q in range(7):\n",
        "            vals = [x[q] for x in g]\n",
        "            if vals == [\"R\",\"R\",\"R\",\"R\"]:\n",
        "                return \"R\"\n",
        "            if vals == [\"Y\",\"Y\",\"Y\",\"Y\"]:\n",
        "                return \"Y\"\n",
        "\n",
        "    #Checking Diagonals:\n",
        "    #Checking for R\n",
        "    for i in range(6):\n",
        "        for j in range(7):\n",
        "            if grid[i][j] == \"R\":\n",
        "                try:\n",
        "                    if grid[i-3][j-3] == \"R\" and i-3 >= 0 and j-3 >= 0 and grid[i-2][j-2] == \"R\" and grid[i-1][j-1] == \"R\":\n",
        "                        return \"R\"\n",
        "                except: pass\n",
        "                try:\n",
        "                    if grid[i-3][j+3] == \"R\" and i-3 >= 0 and grid[i-2][j+2] == \"R\" and grid [i-1][j+1] == \"R\":\n",
        "                        return \"R\"\n",
        "                except: pass\n",
        "    #Checking for Y\n",
        "    for i in range(6):\n",
        "        for j in range(7):\n",
        "            if grid[i][j] == \"Y\":\n",
        "                try:\n",
        "                    if grid[i-3][j-3] == \"Y\" and i-3 >= 0 and j-3 >= 0 and grid[i-2][j-2] == \"Y\" and grid[i-1][j-1] == \"Y\":\n",
        "                        return \"Y\"\n",
        "                except: pass\n",
        "                try:\n",
        "                    if grid[i-3][j+3] == \"Y\" and i-3 >= 0 and grid[i-2][j+2] == \"Y\" and grid [i-1][j+1] == \"Y\":\n",
        "                        return \"Y\"\n",
        "                except: pass\n",
        "    return False"
      ]
    },
    {
      "cell_type": "code",
      "execution_count": 8,
      "metadata": {
        "colab": {
          "base_uri": "https://localhost:8080/"
        },
        "id": "TnhnSHmZeFNL",
        "outputId": "a8697514-595f-4c48-ea7f-a93aadaf67ef"
      },
      "outputs": [
        {
          "output_type": "execute_result",
          "data": {
            "text/plain": [
              "False"
            ]
          },
          "metadata": {},
          "execution_count": 8
        }
      ],
      "source": [
        "winner(grid)"
      ]
    },
    {
      "cell_type": "code",
      "execution_count": 9,
      "metadata": {
        "id": "Qbqkb4dBeFNM"
      },
      "outputs": [],
      "source": [
        "def three_check(grid):\n",
        "    y_check = False\n",
        "    r_check = False\n",
        "    #Checking rows:\n",
        "    for i in range(6):\n",
        "        for j in range(4):\n",
        "            if grid[i][j:j+4] == [0,\"R\",\"R\",\"R\"] or grid[i][j:j+4] == [\"R\",\"R\",\"R\",0]:\n",
        "                r_check = True\n",
        "            if grid[i][j:j+4] == [0,\"Y\",\"Y\",\"Y\"] or grid[i][j:j+4] == [\"Y\",\"Y\",\"Y\",0]:\n",
        "                y_check = True\n",
        "            if grid[i][j:j+4] == [\"R\",0,\"R\",\"R\"] or grid[i][j:j+4] == [\"R\",\"R\",0,\"R\"]:\n",
        "                r_check = True\n",
        "            if grid[i][j:j+4] == [\"Y\",0,\"Y\",\"Y\"] or grid[i][j:j+4] == [\"Y\",\"Y\",0,\"Y\"]:\n",
        "                y_check = True\n",
        "\n",
        "    #Checking Columns:\n",
        "    for j in range(3):\n",
        "        g = grid[j:j+4]\n",
        "        for q in range(7):\n",
        "            vals = [x[q] for x in g]\n",
        "            if vals == [0, \"R\",\"R\",\"R\"]:\n",
        "                r_check = True\n",
        "            if vals == [0, \"Y\",\"Y\",\"Y\"]:\n",
        "                y_check = True\n",
        "            \n",
        "    \n",
        "    #Checking Diagonals:\n",
        "    for i in range(6):\n",
        "        for j in range(7):\n",
        "            #Checking for R\n",
        "            if grid[i][j] == \"R\":\n",
        "                try:\n",
        "                    if grid[i-3][j-3] == 0 and i-3 >= 0 and j-3 >= 0 and grid[i-2][j-2] == \"R\" and grid[i-1][j-1] == \"R\":\n",
        "                        r_check = True\n",
        "                except: pass\n",
        "                try:\n",
        "                    if grid[i-3][j+3] == 0 and i-3 >= 0 and grid[i-2][j+2] == \"R\" and grid [i-1][j+1] == \"R\":\n",
        "                        r_check = True\n",
        "                except: pass\n",
        "                try:\n",
        "                    if grid[i-3][j-3] == \"R\" and i-3 >= 0 and j-3 >= 0 and grid[i-2][j-2] == 0 and grid[i-1][j-1] == \"R\":\n",
        "                        r_check = True\n",
        "                except: pass\n",
        "                try:\n",
        "                    if grid[i-3][j+3] == \"R\" and i-3 >= 0 and grid[i-2][j+2] == 0 and grid [i-1][j+1] == \"R\":\n",
        "                        r_check = True\n",
        "                except: pass\n",
        "                try:\n",
        "                    if grid[i-3][j-3] == \"R\" and i-3 >= 0 and j-3 >= 0 and grid[i-2][j-2] == \"R\" and grid[i-1][j-1] == 0:\n",
        "                        r_check = True\n",
        "                except: pass\n",
        "                try:\n",
        "                    if grid[i-3][j+3] == \"R\" and i-3 >= 0 and grid[i-2][j+2] == \"R\" and grid [i-1][j+1] == 0:\n",
        "                        r_check = True\n",
        "                except: pass\n",
        "                    \n",
        "            #Checking for Y\n",
        "            elif grid[i][j] == \"Y\":\n",
        "                try:\n",
        "                    if grid[i-3][j-3] == 0 and i-3 >= 0 and j-3 >= 0 and grid[i-2][j-2] == \"Y\" and grid[i-1][j-1] == \"Y\":\n",
        "                        y_check = True\n",
        "                except: pass\n",
        "                try:\n",
        "                    if grid[i-3][j+3] == 0 and i-3 >= 0 and grid[i-2][j+2] == \"Y\" and grid [i-1][j+1] == \"Y\":\n",
        "                        y_check = True\n",
        "                except: pass\n",
        "                try:\n",
        "                    if grid[i-3][j-3] == \"Y\" and i-3 >= 0 and j-3 >= 0 and grid[i-2][j-2] == 0 and grid[i-1][j-1] == \"Y\":\n",
        "                        y_check = True\n",
        "                except: pass\n",
        "                try:\n",
        "                    if grid[i-3][j+3] == \"Y\" and i-3 >= 0 and grid[i-2][j+2] == 0 and grid [i-1][j+1] == \"Y\":\n",
        "                        y_check = True\n",
        "                except: pass\n",
        "                try:\n",
        "                    if grid[i-3][j-3] == \"Y\" and i-3 >= 0 and j-3 >= 0 and grid[i-2][j-2] == \"Y\" and grid[i-1][j-1] == 0:\n",
        "                        y_check = True\n",
        "                except: pass\n",
        "                try:\n",
        "                    if grid[i-3][j+3] == \"Y\" and i-3 >= 0 and grid[i-2][j+2] == \"Y\" and grid [i-1][j+1] == 0:\n",
        "                        y_check = True\n",
        "                except: pass\n",
        "                \n",
        "    if y_check and r_check:\n",
        "        return True\n",
        "    elif y_check:\n",
        "        return \"Y\"\n",
        "    elif r_check:\n",
        "        return \"R\"\n",
        "    else:\n",
        "        return False"
      ]
    },
    {
      "cell_type": "code",
      "execution_count": 10,
      "metadata": {
        "colab": {
          "base_uri": "https://localhost:8080/"
        },
        "id": "rI8MJKNFeFNP",
        "outputId": "e1a151e8-ff0b-41cb-bc8e-cb872d0f8426"
      },
      "outputs": [
        {
          "output_type": "execute_result",
          "data": {
            "text/plain": [
              "False"
            ]
          },
          "metadata": {},
          "execution_count": 10
        }
      ],
      "source": [
        "three_check(grid)"
      ]
    },
    {
      "cell_type": "code",
      "execution_count": 11,
      "metadata": {
        "colab": {
          "base_uri": "https://localhost:8080/"
        },
        "id": "Uzp9krUWeFNQ",
        "outputId": "14b6adc9-91d3-4174-d887-ea5f70ff1c36"
      },
      "outputs": [
        {
          "output_type": "execute_result",
          "data": {
            "text/plain": [
              "[[0, 0, 0, 0, 0, 0, 0],\n",
              " [0, 0, 0, 0, 0, 0, 0],\n",
              " [0, 0, 0, 0, 0, 0, 0],\n",
              " [0, 0, 0, 0, 0, 0, 0],\n",
              " [0, 0, 0, 0, 0, 0, 0],\n",
              " [0, 0, 0, 0, 0, 0, 0]]"
            ]
          },
          "metadata": {},
          "execution_count": 11
        }
      ],
      "source": [
        "grid"
      ]
    },
    {
      "cell_type": "code",
      "execution_count": 12,
      "metadata": {
        "id": "h-7kebv8eFNS"
      },
      "outputs": [],
      "source": [
        "def trap(grid):\n",
        "    y_check = False\n",
        "    r_check = False\n",
        "    for i in range(6):\n",
        "        for j in range(7):\n",
        "            #Checking for R\n",
        "            if grid[i][j] == \"R\":\n",
        "                try:\n",
        "                    if grid[i][j+1] == 0 and grid[i][j+2] == \"R\" and grid[i][j+3] == \"R\" and grid[i+1][j+1] == 0 and grid[i+2][j+2] == \"R\" and grid[i+3][j+3] == \"R\":\n",
        "                        r_check = True\n",
        "                except: pass\n",
        "                try:\n",
        "                    if grid[i-1][j+1] == 0 and i-1 >= 0 and grid[i-2][j+2] == \"R\" and i-2 >= 0 and grid[i-3][j+3] == \"R\" and i-3 >= 0 and grid[i][j+1] == 0 and grid[i][j+2] == \"R\" and grid[i][j+3] == \"R\":\n",
        "                        r_check = True\n",
        "                except: pass\n",
        "                try:\n",
        "                    if grid[i][j+1] == \"R\" and grid[i][j+2] == 0 and grid[i][j+3] == \"R\" and grid[i+1][j+2] == 0 and grid[i+2][j+3] == \"R\" and grid[i+3][j+4] == \"R\":\n",
        "                        r_check = True\n",
        "                except: pass\n",
        "                try:\n",
        "                    if grid[i][j+1] == \"R\" and grid[i][j+2] == 0 and grid[i][j+3] == \"R\" and grid[i-1][j+2] == 0 and i-1 >= 0 and grid[i-2][j+3] == \"R\" and i-2 >= 0 and grid[i-3][j+4] == \"R\" and i-3 >= 0:\n",
        "                        r_check = True\n",
        "                except: pass\n",
        "                try:\n",
        "                    if grid[i+1][j+1] == \"R\" and grid[i+1][j+2] == 0 and grid[i+1][j+3] == \"R\" and grid[i+1][j+4] == \"R\" and grid[i+2][j+2] == 0 and grid[i+3][j+3] == \"R\":\n",
        "                        r_check = True\n",
        "                except: pass\n",
        "                try:\n",
        "                    if grid[i-1][j+1] == \"R\" and grid[i-1][j+2] == 0 and grid[i-1][j+3] == \"R\" and grid[i-1][j+4] == \"R\" and grid[i-2][j+2] == 0 and grid[i-3][j+3] == \"R\" and i-3 >= 0:\n",
        "                        r_check = True\n",
        "                except: pass\n",
        "                try:\n",
        "                    if grid[i+1][j] == \"R\" and grid[i+1][j+1] == \"R\" and grid[i+1][j+2] == 0 and grid[i+1][j+3] == \"R\" and grid[i+2][j+2] == 0 and grid[i+3][j+3] == \"R\":\n",
        "                        r_check = True\n",
        "                except: pass\n",
        "                try:\n",
        "                    if grid[i-1][j] == \"R\" and grid[i-1][j+1] == \"R\" and grid[i-1][j+2] == 0 and grid[i-1][j+3] == \"R\" and grid[i-2][j+2] == 0 and grid[i-3][j+3] == \"R\" and i-3 >= 0:\n",
        "                        r_check = True\n",
        "                except: pass\n",
        "                try:\n",
        "                    if grid[i][j+1] == \"R\" and grid[i][j+2] == 0 and grid[i][j+3] == \"R\" and grid[i+1][j+2] == 0 and grid[i+2][j+1] == \"R\" and grid[i+3][j] == \"R\":\n",
        "                        r_check = True\n",
        "                except: pass\n",
        "                try:\n",
        "                    if grid[i+1][j+1] == \"R\" and grid[i+2][j+2] == 0 and grid[i+3][j+3] == \"R\" and grid[i+3][j] == \"R\" and grid[i+3][j+1] == \"R\" and grid[i+3][j+2] == 0:\n",
        "                        r_check = True\n",
        "                except: pass\n",
        "                try:\n",
        "                    if grid[i][j+1] == 0 and grid[i][j+2] == \"R\" and grid[i][j+3] == \"R\" and grid[i+1][j+1] == 0 and grid[i+2][j] == \"R\" and grid[i+3][j-1] == \"R\" and j-1 >= 0:\n",
        "                        r_check = True\n",
        "                except: pass\n",
        "                try:\n",
        "                    if grid[i+1][j+1] == \"R\" and grid[i+2][j+2] == 0 and grid[i+3][j+1] == \"R\" and grid[i+3][j+2] == 0 and grid[i+3][j+3] == \"R\" and grid[i+3][j+4] == \"R\":\n",
        "                        r_check = True\n",
        "                except: pass\n",
        "                try:\n",
        "                    if grid[i][j+1] == \"R\" and grid[i][j+2] == 0 and grid[i][j+3] == \"R\" and grid[i-1][j+4] == \"R\" and i-1 >= 0 and grid[i+1][j+2] == 0 and grid[i+2][j+1] == \"R\":\n",
        "                        r_check = True\n",
        "                except: pass\n",
        "                try:\n",
        "                    if grid[i][j+1] == \"R\" and grid[i][j+2] == 0 and grid[i][j+3] == \"R\" and grid[i-2][j+1] == \"R\" and i-2 >= 0 and grid[i-1][j+2] == 0 and grid[i+1][j+4] == \"R\":\n",
        "                        r_check = True\n",
        "                except: pass\n",
        "                try:\n",
        "                    if grid[i][j+1] == 0 and grid[i][j+2] == \"R\" and grid[i][j+3] == \"R\" and grid[i-1][j+3] == \"R\" and i-1 >= 0 and grid[i+1][j+1] == 0 and grid[i+2][j] == \"R\":\n",
        "                        r_check = True\n",
        "                except: pass\n",
        "                try:\n",
        "                    if grid[i+1][j+1] == 0 and grid[i+2][j] == \"R\" and grid[i+2][j+1] == 0 and grid[i+2][j+2] == \"R\" and grid[i+2][j+3] == \"R\" and grid[i+3][j+3] == \"R\":\n",
        "                        r_check = True\n",
        "                except: pass\n",
        "                try:\n",
        "                    if grid[i][j-1] == 0 and j-1 >= 0 and grid[i][j+1] == \"R\" and grid[i][j+2] == \"R\" and grid[i+1][j+1] == \"R\" and grid[i+2][j+2] == \"R\" and grid[i-1][j-1] == 0 and i-1 >= 0:\n",
        "                        r_check = True\n",
        "                except: pass\n",
        "                try:\n",
        "                    if grid[i][j+1] == \"R\" and grid[i][j+2] == \"R\" and grid[i][j+3] == 0 and grid[i+1][j+1] == \"R\" and grid[i+2][j] == \"R\" and grid[i-1][j+3] == 0 and i-1 >= 0:\n",
        "                        r_check = True\n",
        "                except: pass\n",
        "                try:\n",
        "                    if grid[i][j-1] == 0 and j-1 >= 0 and grid[i+1][j-1] == 0 and grid[i][j+1] == \"R\" and grid[i][j+2] == \"R\" and grid[i-1][j+1] == \"R\" and grid[i-2][j+2] == \"R\" and i-2 >= 0:\n",
        "                        r_check = True\n",
        "                except: pass\n",
        "                try:\n",
        "                    if grid[i-2][j] == \"R\" and i-2 >= 0 and grid[i-1][j+1] == \"R\" and grid[i][j+1] == \"R\" and grid[i][j+2] == \"R\" and grid[i][j+3] == 0 and grid[i+1][j+3] == 0:\n",
        "                        r_check = True\n",
        "                except: pass\n",
        "                \n",
        "            #Checking for Y\n",
        "            elif grid[i][j] == \"Y\":\n",
        "                try:\n",
        "                    if grid[i][j+1] == 0 and grid[i][j+2] == \"Y\" and grid[i][j+3] == \"Y\" and grid[i+1][j+1] == 0 and grid[i+2][j+2] == \"Y\" and grid[i+3][j+3] == \"Y\":\n",
        "                        y_check = True\n",
        "                except: pass\n",
        "                try:\n",
        "                    if grid[i-1][j+1] == 0 and i-1 >= 0 and grid[i-2][j+2] == \"Y\" and i-2 >= 0 and grid[i-3][j+3] == \"Y\" and i-3 >= 0 and grid[i][j+1] == 0 and grid[i][j+2] == \"Y\" and grid[i][j+3] == \"Y\":\n",
        "                        y_check = True\n",
        "                except: pass\n",
        "                try:\n",
        "                    if grid[i][j+1] == \"Y\" and grid[i][j+2] == 0 and grid[i][j+3] == \"Y\" and grid[i+1][j+2] == 0 and grid[i+2][j+3] == \"Y\" and grid[i+3][j+4] == \"Y\":\n",
        "                        y_check = True\n",
        "                except: pass\n",
        "                try:\n",
        "                    if grid[i][j+1] == \"Y\" and grid[i][j+2] == 0 and grid[i][j+3] == \"Y\" and grid[i-1][j+2] == 0 and i-1 >= 0 and grid[i-2][j+3] == \"Y\" and i-2 >= 0 and grid[i-3][j+4] == \"Y\" and i-3 >= 0:\n",
        "                        y_check = True\n",
        "                except: pass\n",
        "                try:\n",
        "                    if grid[i+1][j+1] == \"Y\" and grid[i+1][j+2] == 0 and grid[i+1][j+3] == \"Y\" and grid[i+1][j+4] == \"Y\" and grid[i+2][j+2] == 0 and grid[i+3][j+3] == \"Y\":\n",
        "                        y_check = True\n",
        "                except: pass\n",
        "                try:\n",
        "                    if grid[i-1][j+1] == \"Y\" and grid[i-1][j+2] == 0 and grid[i-1][j+3] == \"Y\" and grid[i-1][j+4] == \"Y\" and grid[i-2][j+2] == 0 and grid[i-3][j+3] == \"Y\" and i-3 >= 0:\n",
        "                        y_check = True\n",
        "                except: pass\n",
        "                try:\n",
        "                    if grid[i+1][j] == \"Y\" and grid[i+1][j+1] == \"Y\" and grid[i+1][j+2] == 0 and grid[i+1][j+3] == \"Y\" and grid[i+2][j+2] == 0 and grid[i+3][j+3] == \"Y\":\n",
        "                        y_check = True\n",
        "                except: pass\n",
        "                try:\n",
        "                    if grid[i-1][j] == \"Y\" and grid[i-1][j+1] == \"Y\" and grid[i-1][j+2] == 0 and grid[i-1][j+3] == \"Y\" and grid[i-2][j+2] == 0 and grid[i-3][j+3] == \"Y\" and i-3 >= 0:\n",
        "                        y_check = True\n",
        "                except: pass\n",
        "                try:\n",
        "                    if grid[i][j+1] == \"Y\" and grid[i][j+2] == 0 and grid[i][j+3] == \"Y\" and grid[i+1][j+2] == 0 and grid[i+2][j+1] == \"Y\" and grid[i+3][j] == \"Y\":\n",
        "                        y_check = True\n",
        "                except: pass\n",
        "                try:\n",
        "                    if grid[i+1][j+1] == \"Y\" and grid[i+2][j+2] == 0 and grid[i+3][j+3] == \"Y\" and grid[i+3][j] == \"Y\" and grid[i+3][j+1] == \"Y\" and grid[i+3][j+2] == 0:\n",
        "                        y_check = True\n",
        "                except: pass\n",
        "                try:\n",
        "                    if grid[i][j+1] == 0 and grid[i][j+2] == \"Y\" and grid[i][j+3] == \"Y\" and grid[i+1][j+1] == 0 and grid[i+2][j] == \"Y\" and grid[i+3][j-1] == \"Y\" and j-1 >= 0:\n",
        "                        y_check = True\n",
        "                except: pass\n",
        "                try:\n",
        "                    if grid[i+1][j+1] == \"Y\" and grid[i+2][j+2] == 0 and grid[i+3][j+1] == \"Y\" and grid[i+3][j+2] == 0 and grid[i+3][j+3] == \"Y\" and grid[i+3][j+4] == \"Y\":\n",
        "                        y_check = True\n",
        "                except: pass\n",
        "                try:\n",
        "                    if grid[i][j+1] == \"Y\" and grid[i][j+2] == 0 and grid[i][j+3] == \"Y\" and grid[i-1][j+4] == \"Y\" and i-1 >= 0 and grid[i+1][j+2] == 0 and grid[i+2][j+1] == \"Y\":\n",
        "                        y_check = True\n",
        "                except: pass\n",
        "                try:\n",
        "                    if grid[i][j+1] == \"Y\" and grid[i][j+2] == 0 and grid[i][j+3] == \"Y\" and grid[i-2][j+1] == \"Y\" and i-2 >= 0 and grid[i-1][j+2] == 0 and grid[i+1][j+4] == \"Y\":\n",
        "                        y_check = True\n",
        "                except: pass\n",
        "                try:\n",
        "                    if grid[i][j+1] == 0 and grid[i][j+2] == \"Y\" and grid[i][j+3] == \"Y\" and grid[i-1][j+3] == \"Y\" and i-1 >= 0 and grid[i+1][j+1] == 0 and grid[i+2][j] == \"Y\":\n",
        "                        y_check = True\n",
        "                except: pass\n",
        "                try:\n",
        "                    if grid[i+1][j+1] == 0 and grid[i+2][j] == \"Y\" and grid[i+2][j+1] == 0 and grid[i+2][j+2] == \"Y\" and grid[i+2][j+3] == \"Y\" and grid[i+3][j+3] == \"Y\":\n",
        "                        y_check = True\n",
        "                except: pass\n",
        "                try:\n",
        "                    if grid[i][j-1] == 0 and j-1 >= 0 and grid[i][j+1] == \"Y\" and grid[i][j+2] == \"Y\" and grid[i+1][j+1] == \"Y\" and grid[i+2][j+2] == \"Y\" and grid[i-1][j-1] == 0 and i-1 >= 0:\n",
        "                        y_check = True\n",
        "                except: pass\n",
        "                try:\n",
        "                    if grid[i][j+1] == \"Y\" and grid[i][j+2] == \"Y\" and grid[i][j+3] == 0 and grid[i+1][j+1] == \"Y\" and grid[i+2][j] == \"Y\" and grid[i-1][j+3] == 0 and i-1 >= 0:\n",
        "                        y_check = True\n",
        "                except: pass\n",
        "                try:\n",
        "                    if grid[i][j-1] == 0 and j-1 >= 0 and grid[i+1][j-1] == 0 and grid[i][j+1] == \"Y\" and grid[i][j+2] == \"Y\" and grid[i-1][j+1] == \"Y\" and grid[i-2][j+2] == \"Y\" and i-2 >= 0:\n",
        "                        y_check = True\n",
        "                except: pass\n",
        "                try:\n",
        "                    if grid[i-2][j] == \"Y\" and i-2 >= 0 and grid[i-1][j+1] == \"Y\" and grid[i][j+1] == \"Y\" and grid[i][j+2] == \"Y\" and grid[i][j+3] == 0 and grid[i+1][j+3] == 0:\n",
        "                        y_check = True\n",
        "                except: pass\n",
        "    \n",
        "    if y_check and r_check:\n",
        "        return True\n",
        "    elif y_check:\n",
        "        return \"Y\"\n",
        "    elif r_check:\n",
        "        return \"R\"\n",
        "    else:\n",
        "        return False"
      ]
    },
    {
      "cell_type": "code",
      "execution_count": 13,
      "metadata": {
        "id": "5qBbemSNeFNU"
      },
      "outputs": [],
      "source": [
        "grid = initial_state()"
      ]
    },
    {
      "cell_type": "code",
      "execution_count": 14,
      "metadata": {
        "scrolled": true,
        "colab": {
          "base_uri": "https://localhost:8080/"
        },
        "id": "LgnURghfeFNV",
        "outputId": "63fa63ff-34b6-4734-b373-53ca459fba5d"
      },
      "outputs": [
        {
          "output_type": "stream",
          "name": "stdout",
          "text": [
            "[[0 0 0 0 0 0 0]\n",
            " [0 0 0 0 0 0 0]\n",
            " [0 0 0 0 0 0 0]\n",
            " [0 0 0 0 0 0 0]\n",
            " [0 0 0 0 0 0 0]\n",
            " [0 0 0 0 0 0 0]]\n"
          ]
        }
      ],
      "source": [
        "print(np.matrix(grid))"
      ]
    },
    {
      "cell_type": "code",
      "execution_count": 15,
      "metadata": {
        "colab": {
          "base_uri": "https://localhost:8080/"
        },
        "id": "TQ82f54YeFNX",
        "outputId": "f4b69a32-2d3b-4e97-8705-9be5266a87d9"
      },
      "outputs": [
        {
          "output_type": "execute_result",
          "data": {
            "text/plain": [
              "False"
            ]
          },
          "metadata": {},
          "execution_count": 15
        }
      ],
      "source": [
        "trap(grid)"
      ]
    },
    {
      "cell_type": "code",
      "execution_count": 16,
      "metadata": {
        "id": "D0yav1coeFNZ"
      },
      "outputs": [],
      "source": [
        "def actions(grid):\n",
        "    moves = []\n",
        "    for i in range(7):\n",
        "        row = 5\n",
        "        while grid[row][i] != 0 and row >= 0:\n",
        "            row -= 1\n",
        "        if grid[row][i] == 0:\n",
        "            moves.append([row,i])\n",
        "    random.shuffle(moves)\n",
        "    return moves"
      ]
    },
    {
      "cell_type": "code",
      "execution_count": 17,
      "metadata": {
        "colab": {
          "base_uri": "https://localhost:8080/"
        },
        "id": "X_Bo_0reeFNa",
        "outputId": "02b5bd32-09a3-4b23-e388-46ee3ba75487"
      },
      "outputs": [
        {
          "output_type": "execute_result",
          "data": {
            "text/plain": [
              "[[5, 0], [5, 6], [5, 4], [5, 2], [5, 1], [5, 5], [5, 3]]"
            ]
          },
          "metadata": {},
          "execution_count": 17
        }
      ],
      "source": [
        "actions(grid)"
      ]
    },
    {
      "cell_type": "code",
      "execution_count": 18,
      "metadata": {
        "id": "s8ZuEAzYeFNb"
      },
      "outputs": [],
      "source": [
        "def terminal(grid):\n",
        "    if tie(grid) or winner(grid):\n",
        "        return True\n",
        "    return False"
      ]
    },
    {
      "cell_type": "code",
      "execution_count": 19,
      "metadata": {
        "colab": {
          "base_uri": "https://localhost:8080/"
        },
        "id": "CSs9RLQIeFNc",
        "outputId": "6ed10b92-f963-4347-b67f-e19206d2088f"
      },
      "outputs": [
        {
          "output_type": "execute_result",
          "data": {
            "text/plain": [
              "False"
            ]
          },
          "metadata": {},
          "execution_count": 19
        }
      ],
      "source": [
        "terminal(grid)"
      ]
    },
    {
      "cell_type": "code",
      "execution_count": 20,
      "metadata": {
        "id": "d1xHWU_IeFNd"
      },
      "outputs": [],
      "source": [
        "def player(grid):\n",
        "    #Red goes first\n",
        "    red_count = 0\n",
        "    yellow_count = 0\n",
        "    for i in range(6):\n",
        "        for j in range(7):\n",
        "            if grid[i][j] == \"R\":\n",
        "                red_count += 1\n",
        "            elif grid[i][j] == \"Y\":\n",
        "                yellow_count += 1\n",
        "\n",
        "    if red_count == yellow_count:\n",
        "        return \"R\"\n",
        "    else:\n",
        "        return \"Y\""
      ]
    },
    {
      "cell_type": "code",
      "execution_count": 21,
      "metadata": {
        "colab": {
          "base_uri": "https://localhost:8080/",
          "height": 37
        },
        "id": "oD_1W5TaeFNf",
        "outputId": "d91b2aaf-c3f0-4258-b8da-3cafd6385aaa"
      },
      "outputs": [
        {
          "output_type": "execute_result",
          "data": {
            "application/vnd.google.colaboratory.intrinsic+json": {
              "type": "string"
            },
            "text/plain": [
              "'R'"
            ]
          },
          "metadata": {},
          "execution_count": 21
        }
      ],
      "source": [
        "player(grid)"
      ]
    },
    {
      "cell_type": "code",
      "execution_count": 22,
      "metadata": {
        "id": "S26FnqO9eFNg"
      },
      "outputs": [],
      "source": [
        "def result(grid, move):\n",
        "    c = copy.deepcopy(grid)\n",
        "    y = move[0]\n",
        "    x = move[1]\n",
        "    mark = player(grid)\n",
        "    c[y][x] = mark\n",
        "    return c"
      ]
    },
    {
      "cell_type": "code",
      "execution_count": 23,
      "metadata": {
        "colab": {
          "base_uri": "https://localhost:8080/"
        },
        "id": "-TXWdFryeFNh",
        "outputId": "a09d0124-7dc0-4776-b1d5-ddf0ac75e40c"
      },
      "outputs": [
        {
          "output_type": "stream",
          "name": "stdout",
          "text": [
            "[['0' '0' '0' '0' '0' '0' '0']\n",
            " ['0' '0' '0' '0' '0' '0' '0']\n",
            " ['0' '0' '0' '0' '0' '0' '0']\n",
            " ['0' '0' '0' '0' '0' '0' '0']\n",
            " ['0' '0' '0' '0' '0' '0' '0']\n",
            " ['R' '0' '0' '0' '0' '0' '0']]\n"
          ]
        }
      ],
      "source": [
        "print(np.matrix(result(grid, [5,0])))"
      ]
    },
    {
      "cell_type": "code",
      "execution_count": 24,
      "metadata": {
        "colab": {
          "base_uri": "https://localhost:8080/"
        },
        "id": "SE8HvVgQeFNh",
        "outputId": "cf43458c-49ac-4330-aba7-0786810b612f"
      },
      "outputs": [
        {
          "output_type": "stream",
          "name": "stdout",
          "text": [
            "[[0 0 0 0 0 0 0]\n",
            " [0 0 0 0 0 0 0]\n",
            " [0 0 0 0 0 0 0]\n",
            " [0 0 0 0 0 0 0]\n",
            " [0 0 0 0 0 0 0]\n",
            " [0 0 0 0 0 0 0]]\n"
          ]
        }
      ],
      "source": [
        "print(np.matrix(grid))"
      ]
    },
    {
      "cell_type": "code",
      "execution_count": 25,
      "metadata": {
        "id": "pFG6DvDPeFNi"
      },
      "outputs": [],
      "source": [
        "def utility(grid):\n",
        "    if winner(grid) == \"R\":\n",
        "        return 1\n",
        "    elif winner(grid) == \"Y\":\n",
        "        return -1\n",
        "    elif trap(grid) == \"R\":\n",
        "        return 0.9\n",
        "    elif trap(grid) == \"Y\":\n",
        "        return -0.9\n",
        "    elif trap(grid) == True:\n",
        "        if player(grid) == \"R\":\n",
        "            return 0.6\n",
        "        else:\n",
        "            return -0.6\n",
        "    elif three_check(grid) == \"R\":\n",
        "        return 0.5\n",
        "    elif three_check(grid) == \"Y\":\n",
        "        return -0.5\n",
        "    elif three_check(grid) == True:\n",
        "        if player(grid) == \"R\":\n",
        "            return 0.25\n",
        "        else:\n",
        "            return -0.25\n",
        "    else:\n",
        "        return 0"
      ]
    },
    {
      "cell_type": "code",
      "execution_count": 26,
      "metadata": {
        "colab": {
          "base_uri": "https://localhost:8080/"
        },
        "id": "LTWSMVSoeFNj",
        "outputId": "aeff8411-e42a-4395-c29d-91f8d2c0247e"
      },
      "outputs": [
        {
          "output_type": "execute_result",
          "data": {
            "text/plain": [
              "0"
            ]
          },
          "metadata": {},
          "execution_count": 26
        }
      ],
      "source": [
        "utility(grid)"
      ]
    },
    {
      "cell_type": "code",
      "execution_count": 27,
      "metadata": {
        "id": "0nPtjU77eFNk"
      },
      "outputs": [],
      "source": [
        "def Max_value(grid):\n",
        "    if terminal(grid):\n",
        "        return utility(grid)\n",
        "\n",
        "    v = -math.inf\n",
        "    for a in actions(grid):\n",
        "        v = max(v, Min_value(result(grid, a)))\n",
        "\n",
        "    return v"
      ]
    },
    {
      "cell_type": "code",
      "execution_count": 28,
      "metadata": {
        "id": "cOzUfV4seFNm"
      },
      "outputs": [],
      "source": [
        "def Min_value(grid):\n",
        "    if terminal(grid):\n",
        "        return utility(grid)\n",
        "\n",
        "    v = math.inf\n",
        "    for a in actions(grid):\n",
        "        v = min(v, Max_value(result(grid, a)))\n",
        "\n",
        "    return v"
      ]
    },
    {
      "cell_type": "code",
      "execution_count": 29,
      "metadata": {
        "id": "82qnSVZweFNo"
      },
      "outputs": [],
      "source": [
        "def minimax(grid):\n",
        "    if terminal(grid) == True:\n",
        "        return None\n",
        "    p = player(grid)\n",
        "\n",
        "    if p == \"R\":\n",
        "        reward = -1*math.inf\n",
        "        for a in actions(grid):\n",
        "            v = Min_value(result(grid, a))\n",
        "            if v > reward:\n",
        "                reward = v\n",
        "                move = a\n",
        "        return move\n",
        "\n",
        "    elif p == \"Y\":\n",
        "        reward = math.inf\n",
        "        for a in actions(grid):\n",
        "            v = Max_value(result(grid, a))\n",
        "            if v < reward:\n",
        "                reward = v\n",
        "                move = a\n",
        "        return move"
      ]
    },
    {
      "cell_type": "code",
      "execution_count": 30,
      "metadata": {
        "id": "5-iaKUaYeFNo"
      },
      "outputs": [],
      "source": [
        "def Max_value_depth(grid, depth):\n",
        "    if terminal(grid) or depth == 0:\n",
        "        return utility(grid)\n",
        "\n",
        "    v = -math.inf\n",
        "    for a in actions(grid):\n",
        "        v = max(v, Min_value_depth(result(grid, a), depth-1))\n",
        "\n",
        "    return v"
      ]
    },
    {
      "cell_type": "code",
      "execution_count": 31,
      "metadata": {
        "id": "tIhH_yQyeFNp"
      },
      "outputs": [],
      "source": [
        "def Min_value_depth(grid, depth):\n",
        "    if terminal(grid) or depth == 0:\n",
        "        return utility(grid)\n",
        "\n",
        "    v = math.inf\n",
        "    for a in actions(grid):\n",
        "        v = min(v, Max_value_depth(result(grid, a), depth-1))\n",
        "\n",
        "    return v"
      ]
    },
    {
      "cell_type": "code",
      "execution_count": 32,
      "metadata": {
        "id": "7edQ4N6ueFNr"
      },
      "outputs": [],
      "source": [
        "def minimax_depth_revised(grid, depth):\n",
        "    if terminal(grid) == True or depth == 0:\n",
        "        return utility(grid)\n",
        "    p = player(grid)\n",
        "\n",
        "    if p == \"R\":\n",
        "        reward = -1*math.inf\n",
        "        for a in actions(grid):\n",
        "            v = Min_value_depth(result(grid, a), depth-1)\n",
        "            print(f\"R {v}\")\n",
        "            if v > reward:\n",
        "                reward = v\n",
        "                move = a\n",
        "        return move\n",
        "\n",
        "    elif p == \"Y\":\n",
        "        reward = math.inf\n",
        "        for a in actions(grid):\n",
        "            v = Max_value_depth(result(grid, a), depth-1)\n",
        "            print(f\"Y {v}\")\n",
        "            if v < reward:\n",
        "                reward = v\n",
        "                move = a\n",
        "        return move"
      ]
    },
    {
      "cell_type": "code",
      "execution_count": null,
      "metadata": {
        "id": "DppmghuYeFNv"
      },
      "outputs": [],
      "source": [
        ""
      ]
    },
    {
      "cell_type": "code",
      "execution_count": null,
      "metadata": {
        "id": "zbDei-TceFNw"
      },
      "outputs": [],
      "source": [
        ""
      ]
    },
    {
      "cell_type": "code",
      "execution_count": null,
      "metadata": {
        "id": "INROXwjGeFNy"
      },
      "outputs": [],
      "source": [
        ""
      ]
    },
    {
      "cell_type": "code",
      "execution_count": 33,
      "metadata": {
        "colab": {
          "base_uri": "https://localhost:8080/"
        },
        "id": "UYLMpTZFeFNz",
        "outputId": "08953f7e-09fd-41fe-aa18-6f8631b573e4"
      },
      "outputs": [
        {
          "output_type": "stream",
          "name": "stdout",
          "text": [
            "[[0 0 0 0 0 0 0]\n",
            " [0 0 0 0 0 0 0]\n",
            " [0 0 0 0 0 0 0]\n",
            " [0 0 0 0 0 0 0]\n",
            " [0 0 0 0 0 0 0]\n",
            " [0 0 0 0 0 0 0]]\n"
          ]
        }
      ],
      "source": [
        "print(np.matrix(grid))"
      ]
    },
    {
      "cell_type": "code",
      "execution_count": null,
      "metadata": {
        "id": "0FKo88J3eFN1"
      },
      "outputs": [],
      "source": [
        ""
      ]
    },
    {
      "cell_type": "code",
      "execution_count": 34,
      "metadata": {
        "id": "ey529E3deFN2"
      },
      "outputs": [],
      "source": [
        "def choose_player():\n",
        "    print(\"Red goes first & yellow goes second...\")\n",
        "    pick = input(\"Do you want to play as red or yellow? (Type r or y): \")\n",
        "    print(\"\\n\")\n",
        "    if pick.lower() == \"r\":\n",
        "        return \"R\"\n",
        "    else:\n",
        "        return \"Y\""
      ]
    },
    {
      "cell_type": "code",
      "execution_count": null,
      "metadata": {
        "id": "x63720iQeFN3"
      },
      "outputs": [],
      "source": [
        ""
      ]
    },
    {
      "cell_type": "code",
      "execution_count": 35,
      "metadata": {
        "id": "6ICQ4J99eFN4"
      },
      "outputs": [],
      "source": [
        "def ai_move():\n",
        "    global grid\n",
        "    p = player(grid)\n",
        "    print(f\"\\nIt is {p}‘s Turn.\")\n",
        "    print(np.matrix(grid))\n",
        "    print(\"\\nAI Thinking...\")\n",
        "    choice = minimax(grid)\n",
        "    y = choice[0]\n",
        "    x = choice[1]\n",
        "    grid[y][x] = p"
      ]
    },
    {
      "cell_type": "code",
      "execution_count": 36,
      "metadata": {
        "id": "yrOrYP27eFN7"
      },
      "outputs": [],
      "source": [
        "def ai_move_depth_revised(depth):\n",
        "    global grid\n",
        "    p = player(grid)\n",
        "    choice = [8,7]\n",
        "    print(f\"\\nIt Is The AI‘s Turn.\")\n",
        "    print(np.matrix(grid))\n",
        "    print(\"\\nAI Thinking...\")\n",
        "    choice = minimax_depth_revised(grid, depth)\n",
        "    y = choice[0]\n",
        "    x = choice[1]\n",
        "    print(f\"AI chose column {x+1}.\")\n",
        "    grid[y][x] = p"
      ]
    },
    {
      "cell_type": "code",
      "execution_count": null,
      "metadata": {
        "id": "9vT9JPY0eFN8"
      },
      "outputs": [],
      "source": [
        ""
      ]
    },
    {
      "cell_type": "code",
      "execution_count": 37,
      "metadata": {
        "id": "pdamPqneeFN-"
      },
      "outputs": [],
      "source": [
        "def human_move():\n",
        "    global grid\n",
        "    p = player(grid)\n",
        "    print(f\"\\nIt Is Your Turn.\")\n",
        "    print(np.matrix(grid))\n",
        "    col = int(input(\"Enter the column number (1-7): \"))\n",
        "    print(f\"You chose column {col}.\")\n",
        "    col -= 1\n",
        "    m = actions(grid)\n",
        "    for move in m:\n",
        "        if move[1] == col:\n",
        "            y = move[0]\n",
        "            x = move[1]\n",
        "            grid[y][x] = p"
      ]
    },
    {
      "cell_type": "code",
      "execution_count": 38,
      "metadata": {
        "id": "Dl8u4VuneFOA"
      },
      "outputs": [],
      "source": [
        "def play():\n",
        "    global grid\n",
        "    grid = initial_state()\n",
        "    human = choose_player()\n",
        "    diff = 5\n",
        "    while terminal(grid) == False:\n",
        "        if player(grid) == human:\n",
        "            human_move()\n",
        "        else:\n",
        "            ai_move_depth_revised(diff+1)\n",
        "    w = winner(grid)\n",
        "    print(np.matrix(grid))\n",
        "    grid = initial_state()\n",
        "    if human == w:\n",
        "        print(\"\\nHuman Wins!\")\n",
        "    elif w == False:\n",
        "        print(\"\\nTie!\")\n",
        "    else:\n",
        "        print(\"\\nAI Wins!\")"
      ]
    },
    {
      "cell_type": "code",
      "execution_count": 39,
      "metadata": {
        "colab": {
          "base_uri": "https://localhost:8080/"
        },
        "id": "P94VD5o_eFOB",
        "outputId": "1ca6760c-9d1e-48b8-bc9b-4d0cff45cff8"
      },
      "outputs": [
        {
          "output_type": "stream",
          "name": "stdout",
          "text": [
            "Red goes first & yellow goes second...\n",
            "Do you want to play as red or yellow? (Type r or y): y\n",
            "\n",
            "\n",
            "\n",
            "It Is The AI‘s Turn.\n",
            "[[0 0 0 0 0 0 0]\n",
            " [0 0 0 0 0 0 0]\n",
            " [0 0 0 0 0 0 0]\n",
            " [0 0 0 0 0 0 0]\n",
            " [0 0 0 0 0 0 0]\n",
            " [0 0 0 0 0 0 0]]\n",
            "\n",
            "AI Thinking...\n",
            "R 0\n",
            "R 0\n",
            "R 0\n",
            "R 0\n",
            "R 0\n",
            "R 0\n",
            "R 0\n",
            "AI chose column 2.\n",
            "\n",
            "It Is Your Turn.\n",
            "[['0' '0' '0' '0' '0' '0' '0']\n",
            " ['0' '0' '0' '0' '0' '0' '0']\n",
            " ['0' '0' '0' '0' '0' '0' '0']\n",
            " ['0' '0' '0' '0' '0' '0' '0']\n",
            " ['0' '0' '0' '0' '0' '0' '0']\n",
            " ['0' 'R' '0' '0' '0' '0' '0']]\n",
            "Enter the column number (1-7): 4\n",
            "You chose column 4.\n",
            "\n",
            "It Is The AI‘s Turn.\n",
            "[['0' '0' '0' '0' '0' '0' '0']\n",
            " ['0' '0' '0' '0' '0' '0' '0']\n",
            " ['0' '0' '0' '0' '0' '0' '0']\n",
            " ['0' '0' '0' '0' '0' '0' '0']\n",
            " ['0' '0' '0' '0' '0' '0' '0']\n",
            " ['0' 'R' '0' 'Y' '0' '0' '0']]\n",
            "\n",
            "AI Thinking...\n",
            "R 0\n",
            "R 0\n",
            "R 0\n",
            "R 0\n",
            "R 0\n",
            "R 0\n",
            "R 0\n",
            "AI chose column 4.\n",
            "\n",
            "It Is Your Turn.\n",
            "[['0' '0' '0' '0' '0' '0' '0']\n",
            " ['0' '0' '0' '0' '0' '0' '0']\n",
            " ['0' '0' '0' '0' '0' '0' '0']\n",
            " ['0' '0' '0' '0' '0' '0' '0']\n",
            " ['0' '0' '0' 'R' '0' '0' '0']\n",
            " ['0' 'R' '0' 'Y' '0' '0' '0']]\n",
            "Enter the column number (1-7): 5\n",
            "You chose column 5.\n",
            "\n",
            "It Is The AI‘s Turn.\n",
            "[['0' '0' '0' '0' '0' '0' '0']\n",
            " ['0' '0' '0' '0' '0' '0' '0']\n",
            " ['0' '0' '0' '0' '0' '0' '0']\n",
            " ['0' '0' '0' '0' '0' '0' '0']\n",
            " ['0' '0' '0' 'R' '0' '0' '0']\n",
            " ['0' 'R' '0' 'Y' 'Y' '0' '0']]\n",
            "\n",
            "AI Thinking...\n",
            "R 0\n",
            "R -1\n",
            "R -1\n",
            "R 0\n",
            "R 0\n",
            "R -1\n",
            "R -1\n",
            "AI chose column 3.\n",
            "\n",
            "It Is Your Turn.\n",
            "[['0' '0' '0' '0' '0' '0' '0']\n",
            " ['0' '0' '0' '0' '0' '0' '0']\n",
            " ['0' '0' '0' '0' '0' '0' '0']\n",
            " ['0' '0' '0' '0' '0' '0' '0']\n",
            " ['0' '0' '0' 'R' '0' '0' '0']\n",
            " ['0' 'R' 'R' 'Y' 'Y' '0' '0']]\n",
            "Enter the column number (1-7): 6\n",
            "You chose column 6.\n",
            "\n",
            "It Is The AI‘s Turn.\n",
            "[['0' '0' '0' '0' '0' '0' '0']\n",
            " ['0' '0' '0' '0' '0' '0' '0']\n",
            " ['0' '0' '0' '0' '0' '0' '0']\n",
            " ['0' '0' '0' '0' '0' '0' '0']\n",
            " ['0' '0' '0' 'R' '0' '0' '0']\n",
            " ['0' 'R' 'R' 'Y' 'Y' 'Y' '0']]\n",
            "\n",
            "AI Thinking...\n",
            "R -1\n",
            "R -1\n",
            "R -1\n",
            "R -1\n",
            "R -1\n",
            "R -1\n",
            "R 0\n",
            "AI chose column 7.\n",
            "\n",
            "It Is Your Turn.\n",
            "[['0' '0' '0' '0' '0' '0' '0']\n",
            " ['0' '0' '0' '0' '0' '0' '0']\n",
            " ['0' '0' '0' '0' '0' '0' '0']\n",
            " ['0' '0' '0' '0' '0' '0' '0']\n",
            " ['0' '0' '0' 'R' '0' '0' '0']\n",
            " ['0' 'R' 'R' 'Y' 'Y' 'Y' 'R']]\n",
            "Enter the column number (1-7): 5\n",
            "You chose column 5.\n",
            "\n",
            "It Is The AI‘s Turn.\n",
            "[['0' '0' '0' '0' '0' '0' '0']\n",
            " ['0' '0' '0' '0' '0' '0' '0']\n",
            " ['0' '0' '0' '0' '0' '0' '0']\n",
            " ['0' '0' '0' '0' '0' '0' '0']\n",
            " ['0' '0' '0' 'R' 'Y' '0' '0']\n",
            " ['0' 'R' 'R' 'Y' 'Y' 'Y' 'R']]\n",
            "\n",
            "AI Thinking...\n",
            "R -0.5\n",
            "R -0.5\n",
            "R 0\n",
            "R -0.5\n",
            "R 0.25\n",
            "R 0\n",
            "R 0.25\n",
            "AI chose column 3.\n",
            "\n",
            "It Is Your Turn.\n",
            "[['0' '0' '0' '0' '0' '0' '0']\n",
            " ['0' '0' '0' '0' '0' '0' '0']\n",
            " ['0' '0' '0' '0' '0' '0' '0']\n",
            " ['0' '0' '0' '0' '0' '0' '0']\n",
            " ['0' '0' 'R' 'R' 'Y' '0' '0']\n",
            " ['0' 'R' 'R' 'Y' 'Y' 'Y' 'R']]\n",
            "Enter the column number (1-7): 5\n",
            "You chose column 5.\n",
            "\n",
            "It Is The AI‘s Turn.\n",
            "[['0' '0' '0' '0' '0' '0' '0']\n",
            " ['0' '0' '0' '0' '0' '0' '0']\n",
            " ['0' '0' '0' '0' '0' '0' '0']\n",
            " ['0' '0' '0' '0' 'Y' '0' '0']\n",
            " ['0' '0' 'R' 'R' 'Y' '0' '0']\n",
            " ['0' 'R' 'R' 'Y' 'Y' 'Y' 'R']]\n",
            "\n",
            "AI Thinking...\n",
            "R -1\n",
            "R -1\n",
            "R -1\n",
            "R -1\n",
            "R -1\n",
            "R -0.5\n",
            "R -1\n",
            "AI chose column 5.\n",
            "\n",
            "It Is Your Turn.\n",
            "[['0' '0' '0' '0' '0' '0' '0']\n",
            " ['0' '0' '0' '0' '0' '0' '0']\n",
            " ['0' '0' '0' '0' 'R' '0' '0']\n",
            " ['0' '0' '0' '0' 'Y' '0' '0']\n",
            " ['0' '0' 'R' 'R' 'Y' '0' '0']\n",
            " ['0' 'R' 'R' 'Y' 'Y' 'Y' 'R']]\n",
            "Enter the column number (1-7): 4\n",
            "You chose column 4.\n",
            "\n",
            "It Is The AI‘s Turn.\n",
            "[['0' '0' '0' '0' '0' '0' '0']\n",
            " ['0' '0' '0' '0' '0' '0' '0']\n",
            " ['0' '0' '0' '0' 'R' '0' '0']\n",
            " ['0' '0' '0' 'Y' 'Y' '0' '0']\n",
            " ['0' '0' 'R' 'R' 'Y' '0' '0']\n",
            " ['0' 'R' 'R' 'Y' 'Y' 'Y' 'R']]\n",
            "\n",
            "AI Thinking...\n",
            "R -1\n",
            "R -0.9\n",
            "R -1\n",
            "R -0.5\n",
            "R -0.9\n",
            "R -0.9\n",
            "R -1\n",
            "AI chose column 4.\n",
            "\n",
            "It Is Your Turn.\n",
            "[['0' '0' '0' '0' '0' '0' '0']\n",
            " ['0' '0' '0' '0' '0' '0' '0']\n",
            " ['0' '0' '0' 'R' 'R' '0' '0']\n",
            " ['0' '0' '0' 'Y' 'Y' '0' '0']\n",
            " ['0' '0' 'R' 'R' 'Y' '0' '0']\n",
            " ['0' 'R' 'R' 'Y' 'Y' 'Y' 'R']]\n",
            "Enter the column number (1-7): 7\n",
            "You chose column 7.\n",
            "\n",
            "It Is The AI‘s Turn.\n",
            "[['0' '0' '0' '0' '0' '0' '0']\n",
            " ['0' '0' '0' '0' '0' '0' '0']\n",
            " ['0' '0' '0' 'R' 'R' '0' '0']\n",
            " ['0' '0' '0' 'Y' 'Y' '0' '0']\n",
            " ['0' '0' 'R' 'R' 'Y' '0' 'Y']\n",
            " ['0' 'R' 'R' 'Y' 'Y' 'Y' 'R']]\n",
            "\n",
            "AI Thinking...\n",
            "R -1\n",
            "R -0.5\n",
            "R -0.5\n",
            "R -0.5\n",
            "R -1\n",
            "R -1\n",
            "R -0.5\n",
            "AI chose column 7.\n",
            "\n",
            "It Is Your Turn.\n",
            "[['0' '0' '0' '0' '0' '0' '0']\n",
            " ['0' '0' '0' '0' '0' '0' '0']\n",
            " ['0' '0' '0' 'R' 'R' '0' '0']\n",
            " ['0' '0' '0' 'Y' 'Y' '0' 'R']\n",
            " ['0' '0' 'R' 'R' 'Y' '0' 'Y']\n",
            " ['0' 'R' 'R' 'Y' 'Y' 'Y' 'R']]\n",
            "Enter the column number (1-7): 4\n",
            "You chose column 4.\n",
            "\n",
            "It Is The AI‘s Turn.\n",
            "[['0' '0' '0' '0' '0' '0' '0']\n",
            " ['0' '0' '0' 'Y' '0' '0' '0']\n",
            " ['0' '0' '0' 'R' 'R' '0' '0']\n",
            " ['0' '0' '0' 'Y' 'Y' '0' 'R']\n",
            " ['0' '0' 'R' 'R' 'Y' '0' 'Y']\n",
            " ['0' 'R' 'R' 'Y' 'Y' 'Y' 'R']]\n",
            "\n",
            "AI Thinking...\n",
            "R -0.5\n",
            "R -1\n",
            "R -1\n",
            "R -0.5\n",
            "R -0.5\n",
            "R -1\n",
            "R -0.5\n",
            "AI chose column 7.\n",
            "\n",
            "It Is Your Turn.\n",
            "[['0' '0' '0' '0' '0' '0' '0']\n",
            " ['0' '0' '0' 'Y' '0' '0' '0']\n",
            " ['0' '0' '0' 'R' 'R' '0' 'R']\n",
            " ['0' '0' '0' 'Y' 'Y' '0' 'R']\n",
            " ['0' '0' 'R' 'R' 'Y' '0' 'Y']\n",
            " ['0' 'R' 'R' 'Y' 'Y' 'Y' 'R']]\n",
            "Enter the column number (1-7): 4\n",
            "You chose column 4.\n",
            "\n",
            "It Is The AI‘s Turn.\n",
            "[['0' '0' '0' 'Y' '0' '0' '0']\n",
            " ['0' '0' '0' 'Y' '0' '0' '0']\n",
            " ['0' '0' '0' 'R' 'R' '0' 'R']\n",
            " ['0' '0' '0' 'Y' 'Y' '0' 'R']\n",
            " ['0' '0' 'R' 'R' 'Y' '0' 'Y']\n",
            " ['0' 'R' 'R' 'Y' 'Y' 'Y' 'R']]\n",
            "\n",
            "AI Thinking...\n",
            "R -1\n",
            "R -0.5\n",
            "R -1\n",
            "R -1\n",
            "R 0.25\n",
            "R -0.5\n",
            "AI chose column 1.\n",
            "\n",
            "It Is Your Turn.\n",
            "[['0' '0' '0' 'Y' '0' '0' '0']\n",
            " ['0' '0' '0' 'Y' '0' '0' '0']\n",
            " ['0' '0' '0' 'R' 'R' '0' 'R']\n",
            " ['0' '0' '0' 'Y' 'Y' '0' 'R']\n",
            " ['0' '0' 'R' 'R' 'Y' '0' 'Y']\n",
            " ['R' 'R' 'R' 'Y' 'Y' 'Y' 'R']]\n",
            "Enter the column number (1-7): 5\n",
            "You chose column 5.\n",
            "\n",
            "It Is The AI‘s Turn.\n",
            "[['0' '0' '0' 'Y' '0' '0' '0']\n",
            " ['0' '0' '0' 'Y' 'Y' '0' '0']\n",
            " ['0' '0' '0' 'R' 'R' '0' 'R']\n",
            " ['0' '0' '0' 'Y' 'Y' '0' 'R']\n",
            " ['0' '0' 'R' 'R' 'Y' '0' 'Y']\n",
            " ['R' 'R' 'R' 'Y' 'Y' 'Y' 'R']]\n",
            "\n",
            "AI Thinking...\n",
            "R 1\n",
            "R -1\n",
            "R 0.25\n",
            "R 0.25\n",
            "R -1\n",
            "R 1\n",
            "AI chose column 2.\n",
            "\n",
            "It Is Your Turn.\n",
            "[['0' '0' '0' 'Y' '0' '0' '0']\n",
            " ['0' '0' '0' 'Y' 'Y' '0' '0']\n",
            " ['0' '0' '0' 'R' 'R' '0' 'R']\n",
            " ['0' '0' '0' 'Y' 'Y' '0' 'R']\n",
            " ['0' 'R' 'R' 'R' 'Y' '0' 'Y']\n",
            " ['R' 'R' 'R' 'Y' 'Y' 'Y' 'R']]\n",
            "Enter the column number (1-7): 1\n",
            "You chose column 1.\n",
            "\n",
            "It Is The AI‘s Turn.\n",
            "[['0' '0' '0' 'Y' '0' '0' '0']\n",
            " ['0' '0' '0' 'Y' 'Y' '0' '0']\n",
            " ['0' '0' '0' 'R' 'R' '0' 'R']\n",
            " ['0' '0' '0' 'Y' 'Y' '0' 'R']\n",
            " ['Y' 'R' 'R' 'R' 'Y' '0' 'Y']\n",
            " ['R' 'R' 'R' 'Y' 'Y' 'Y' 'R']]\n",
            "\n",
            "AI Thinking...\n",
            "R -1\n",
            "R 1\n",
            "R -1\n",
            "R 1\n",
            "R -1\n",
            "R 1\n",
            "AI chose column 2.\n",
            "\n",
            "It Is Your Turn.\n",
            "[['0' '0' '0' 'Y' '0' '0' '0']\n",
            " ['0' '0' '0' 'Y' 'Y' '0' '0']\n",
            " ['0' '0' '0' 'R' 'R' '0' 'R']\n",
            " ['0' 'R' '0' 'Y' 'Y' '0' 'R']\n",
            " ['Y' 'R' 'R' 'R' 'Y' '0' 'Y']\n",
            " ['R' 'R' 'R' 'Y' 'Y' 'Y' 'R']]\n",
            "Enter the column number (1-7): 2\n",
            "You chose column 2.\n",
            "\n",
            "It Is The AI‘s Turn.\n",
            "[['0' '0' '0' 'Y' '0' '0' '0']\n",
            " ['0' '0' '0' 'Y' 'Y' '0' '0']\n",
            " ['0' 'Y' '0' 'R' 'R' '0' 'R']\n",
            " ['0' 'R' '0' 'Y' 'Y' '0' 'R']\n",
            " ['Y' 'R' 'R' 'R' 'Y' '0' 'Y']\n",
            " ['R' 'R' 'R' 'Y' 'Y' 'Y' 'R']]\n",
            "\n",
            "AI Thinking...\n",
            "R -1\n",
            "R 1\n",
            "R 0\n",
            "R 1\n",
            "R -1\n",
            "R 0\n",
            "AI chose column 3.\n",
            "[['0' '0' '0' 'Y' '0' '0' '0']\n",
            " ['0' '0' '0' 'Y' 'Y' '0' '0']\n",
            " ['0' 'Y' '0' 'R' 'R' '0' 'R']\n",
            " ['0' 'R' 'R' 'Y' 'Y' '0' 'R']\n",
            " ['Y' 'R' 'R' 'R' 'Y' '0' 'Y']\n",
            " ['R' 'R' 'R' 'Y' 'Y' 'Y' 'R']]\n",
            "\n",
            "AI Wins!\n"
          ]
        }
      ],
      "source": [
        "play()"
      ]
    }
  ],
  "metadata": {
    "kernelspec": {
      "display_name": "Python 3",
      "language": "python",
      "name": "python3"
    },
    "language_info": {
      "codemirror_mode": {
        "name": "ipython",
        "version": 3
      },
      "file_extension": ".py",
      "mimetype": "text/x-python",
      "name": "python",
      "nbconvert_exporter": "python",
      "pygments_lexer": "ipython3",
      "version": "3.8.8"
    },
    "colab": {
      "name": "Connect 4 AI.ipynb",
      "provenance": [],
      "collapsed_sections": []
    }
  },
  "nbformat": 4,
  "nbformat_minor": 0
}