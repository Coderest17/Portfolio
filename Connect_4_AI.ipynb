{
  "cells": [
    {
      "cell_type": "code",
      "execution_count": 5,
      "metadata": {
        "id": "1HahhuVWeFNA"
      },
      "outputs": [],
      "source": [
        "import numpy as np\n",
        "import copy\n",
        "import math\n",
        "import random\n",
        "import os"
      ]
    },
    {
      "cell_type": "code",
      "execution_count": 6,
      "metadata": {
        "id": "fIIFm34veFND"
      },
      "outputs": [],
      "source": [
        "def initial_state():\n",
        "    return [[0,0,0,0,0,0,0], [0,0,0,0,0,0,0], \n",
        "        [0,0,0,0,0,0,0], [0,0,0,0,0,0,0], \n",
        "        [0,0,0,0,0,0,0], [0,0,0,0,0,0,0]]"
      ]
    },
    {
      "cell_type": "code",
      "source": [
        "# Clearing output function\n",
        "def cls():\n",
        "    os.system('cls' if os.name=='nt' else 'clear')"
      ],
      "metadata": {
        "id": "DjOIIziMuK8j"
      },
      "execution_count": 7,
      "outputs": []
    },
    {
      "cell_type": "code",
      "source": [
        "print(\"\\033[1;31mR\\033[0;0m\", end = \" | \")\n",
        "print(\"\\033[1;33;44mY\\033[0;0m\", end = \" | \")"
      ],
      "metadata": {
        "colab": {
          "base_uri": "https://localhost:8080/"
        },
        "id": "7Gckg5RcYciQ",
        "outputId": "af0192c2-8a8b-4f3b-991f-0e316c48d5de"
      },
      "execution_count": 8,
      "outputs": [
        {
          "output_type": "stream",
          "name": "stdout",
          "text": [
            "\u001b[1;31mR\u001b[0;0m | \u001b[1;33;44mY\u001b[0;0m | "
          ]
        }
      ]
    },
    {
      "cell_type": "code",
      "execution_count": 9,
      "metadata": {
        "colab": {
          "base_uri": "https://localhost:8080/"
        },
        "id": "r1Fz4gHHeFNE",
        "outputId": "4fa95159-7a6c-4b95-cca1-d67340464d25"
      },
      "outputs": [
        {
          "output_type": "stream",
          "name": "stdout",
          "text": [
            "[[0 0 0 0 0 0 0]\n",
            " [0 0 0 0 0 0 0]\n",
            " [0 0 0 0 0 0 0]\n",
            " [0 0 0 0 0 0 0]\n",
            " [0 0 0 0 0 0 0]\n",
            " [0 0 0 0 0 0 0]]\n"
          ]
        }
      ],
      "source": [
        "grid = initial_state()\n",
        "print(np.matrix(grid))"
      ]
    },
    {
      "cell_type": "code",
      "execution_count": 10,
      "metadata": {
        "id": "HvEOlTTteFNG",
        "colab": {
          "base_uri": "https://localhost:8080/"
        },
        "outputId": "2b47fbe7-4f60-46cd-f4d3-c0276b423271"
      },
      "outputs": [
        {
          "output_type": "stream",
          "name": "stdout",
          "text": [
            " 1 2 3 4 5 6 7\n",
            "| | | | | | | |\n",
            "---------------\n",
            "| | | | | | | |\n",
            "---------------\n",
            "| | | | | | | |\n",
            "---------------\n",
            "| | | | | | | |\n",
            "---------------\n",
            "| | | | | | | |\n",
            "---------------\n",
            "| | | | | | | |\n",
            "\n",
            "\n"
          ]
        }
      ],
      "source": [
        "def output_map(grid):\n",
        "  print(\" 1 2 3 4 5 6 7\")\n",
        "  for row in range(len(grid)):\n",
        "    for value in grid[row]:\n",
        "      if value == 0:\n",
        "        print(\"| \", end = \"\")\n",
        "      elif value == \"R\":\n",
        "        print(\"|\", end = \"\")\n",
        "        print(\"\\033[1;31mR\\033[0;0m\", end = \"\")\n",
        "      elif value == \"Y\": \n",
        "        print(\"|\", end = \"\")\n",
        "        print(\"\\033[1;33;44mY\\033[0;0m\", end = \"\")\n",
        "    if row != len(grid)-1:\n",
        "      print(\"|\\n---------------\")\n",
        "    else:\n",
        "      print(\"|\")\n",
        "  print(\"\\n\")\n",
        "output_map(grid)"
      ]
    },
    {
      "cell_type": "code",
      "source": [
        ""
      ],
      "metadata": {
        "id": "UWfCHqVDaDCj"
      },
      "execution_count": null,
      "outputs": []
    },
    {
      "cell_type": "code",
      "execution_count": 11,
      "metadata": {
        "id": "C5A9e0mmeFNH"
      },
      "outputs": [],
      "source": [
        "def tie(grid): \n",
        "    for i in range(6):\n",
        "        for j in range(7):\n",
        "            if grid[i][j] == 0:\n",
        "                return False\n",
        "    return True"
      ]
    },
    {
      "cell_type": "code",
      "execution_count": null,
      "metadata": {
        "colab": {
          "base_uri": "https://localhost:8080/"
        },
        "id": "U-_aY6dFeFNI",
        "outputId": "144e44fc-970e-445c-8e43-df5c1114fad0"
      },
      "outputs": [
        {
          "output_type": "execute_result",
          "data": {
            "text/plain": [
              "False"
            ]
          },
          "metadata": {},
          "execution_count": 50
        }
      ],
      "source": [
        "tie(grid)"
      ]
    },
    {
      "cell_type": "code",
      "execution_count": 12,
      "metadata": {
        "colab": {
          "base_uri": "https://localhost:8080/"
        },
        "id": "bubB6B8DeFNJ",
        "outputId": "2abb46a9-645c-4fe1-ebbc-e8bb44d2c1c9"
      },
      "outputs": [
        {
          "output_type": "execute_result",
          "data": {
            "text/plain": [
              "[[0, 0, 0, 0, 0, 0, 0],\n",
              " [0, 0, 0, 0, 0, 0, 0],\n",
              " [0, 0, 0, 0, 0, 0, 0],\n",
              " [0, 0, 0, 0, 0, 0, 0]]"
            ]
          },
          "metadata": {},
          "execution_count": 12
        }
      ],
      "source": [
        "grid[0:4]"
      ]
    },
    {
      "cell_type": "code",
      "execution_count": 13,
      "metadata": {
        "id": "AhXU-3yTeFNK"
      },
      "outputs": [],
      "source": [
        "def winner(grid):\n",
        "    #Checking rows:\n",
        "    for i in range(6):\n",
        "        for j in range(4):\n",
        "            if grid[i][j:j+4] == [\"R\",\"R\",\"R\",\"R\"]:\n",
        "                return \"R\"\n",
        "            if grid[i][j:j+4] == [\"Y\",\"Y\",\"Y\",\"Y\"]:\n",
        "                return \"Y\"\n",
        "\n",
        "    #Checking Columns:\n",
        "    for j in range(3):\n",
        "        g = grid[j:j+4]\n",
        "        for q in range(7):\n",
        "            vals = [x[q] for x in g]\n",
        "            if vals == [\"R\",\"R\",\"R\",\"R\"]:\n",
        "                return \"R\"\n",
        "            if vals == [\"Y\",\"Y\",\"Y\",\"Y\"]:\n",
        "                return \"Y\"\n",
        "\n",
        "    #Checking Diagonals:\n",
        "    #Checking for R\n",
        "    for i in range(6):\n",
        "        for j in range(7):\n",
        "            if grid[i][j] == \"R\":\n",
        "                try:\n",
        "                    if grid[i-3][j-3] == \"R\" and i-3 >= 0 and j-3 >= 0 and grid[i-2][j-2] == \"R\" and grid[i-1][j-1] == \"R\":\n",
        "                        return \"R\"\n",
        "                except: pass\n",
        "                try:\n",
        "                    if grid[i-3][j+3] == \"R\" and i-3 >= 0 and grid[i-2][j+2] == \"R\" and grid [i-1][j+1] == \"R\":\n",
        "                        return \"R\"\n",
        "                except: pass\n",
        "    #Checking for Y\n",
        "    for i in range(6):\n",
        "        for j in range(7):\n",
        "            if grid[i][j] == \"Y\":\n",
        "                try:\n",
        "                    if grid[i-3][j-3] == \"Y\" and i-3 >= 0 and j-3 >= 0 and grid[i-2][j-2] == \"Y\" and grid[i-1][j-1] == \"Y\":\n",
        "                        return \"Y\"\n",
        "                except: pass\n",
        "                try:\n",
        "                    if grid[i-3][j+3] == \"Y\" and i-3 >= 0 and grid[i-2][j+2] == \"Y\" and grid [i-1][j+1] == \"Y\":\n",
        "                        return \"Y\"\n",
        "                except: pass\n",
        "    return False"
      ]
    },
    {
      "cell_type": "code",
      "execution_count": null,
      "metadata": {
        "colab": {
          "base_uri": "https://localhost:8080/"
        },
        "id": "TnhnSHmZeFNL",
        "outputId": "85b3a969-f141-46ea-ef73-739449bcb4fb"
      },
      "outputs": [
        {
          "output_type": "execute_result",
          "data": {
            "text/plain": [
              "False"
            ]
          },
          "metadata": {},
          "execution_count": 53
        }
      ],
      "source": [
        "winner(grid)"
      ]
    },
    {
      "cell_type": "code",
      "execution_count": 14,
      "metadata": {
        "id": "Qbqkb4dBeFNM"
      },
      "outputs": [],
      "source": [
        "def three_check(grid):\n",
        "    y_check = False\n",
        "    r_check = False\n",
        "    #Checking rows:\n",
        "    for i in range(6):\n",
        "        for j in range(4):\n",
        "            if grid[i][j:j+4] == [0,\"R\",\"R\",\"R\"] or grid[i][j:j+4] == [\"R\",\"R\",\"R\",0]:\n",
        "                r_check = True\n",
        "            if grid[i][j:j+4] == [0,\"Y\",\"Y\",\"Y\"] or grid[i][j:j+4] == [\"Y\",\"Y\",\"Y\",0]:\n",
        "                y_check = True\n",
        "            if grid[i][j:j+4] == [\"R\",0,\"R\",\"R\"] or grid[i][j:j+4] == [\"R\",\"R\",0,\"R\"]:\n",
        "                r_check = True\n",
        "            if grid[i][j:j+4] == [\"Y\",0,\"Y\",\"Y\"] or grid[i][j:j+4] == [\"Y\",\"Y\",0,\"Y\"]:\n",
        "                y_check = True\n",
        "\n",
        "    #Checking Columns:\n",
        "    for j in range(3):\n",
        "        g = grid[j:j+4]\n",
        "        for q in range(7):\n",
        "            vals = [x[q] for x in g]\n",
        "            if vals == [0, \"R\",\"R\",\"R\"]:\n",
        "                r_check = True\n",
        "            if vals == [0, \"Y\",\"Y\",\"Y\"]:\n",
        "                y_check = True\n",
        "            \n",
        "    \n",
        "    #Checking Diagonals:\n",
        "    for i in range(6):\n",
        "        for j in range(7):\n",
        "            #Checking for R\n",
        "            if grid[i][j] == \"R\":\n",
        "                try:\n",
        "                    if grid[i-3][j-3] == 0 and i-3 >= 0 and j-3 >= 0 and grid[i-2][j-2] == \"R\" and grid[i-1][j-1] == \"R\":\n",
        "                        r_check = True\n",
        "                except: pass\n",
        "                try:\n",
        "                    if grid[i-3][j+3] == 0 and i-3 >= 0 and grid[i-2][j+2] == \"R\" and grid [i-1][j+1] == \"R\":\n",
        "                        r_check = True\n",
        "                except: pass\n",
        "                try:\n",
        "                    if grid[i-3][j-3] == \"R\" and i-3 >= 0 and j-3 >= 0 and grid[i-2][j-2] == 0 and grid[i-1][j-1] == \"R\":\n",
        "                        r_check = True\n",
        "                except: pass\n",
        "                try:\n",
        "                    if grid[i-3][j+3] == \"R\" and i-3 >= 0 and grid[i-2][j+2] == 0 and grid [i-1][j+1] == \"R\":\n",
        "                        r_check = True\n",
        "                except: pass\n",
        "                try:\n",
        "                    if grid[i-3][j-3] == \"R\" and i-3 >= 0 and j-3 >= 0 and grid[i-2][j-2] == \"R\" and grid[i-1][j-1] == 0:\n",
        "                        r_check = True\n",
        "                except: pass\n",
        "                try:\n",
        "                    if grid[i-3][j+3] == \"R\" and i-3 >= 0 and grid[i-2][j+2] == \"R\" and grid [i-1][j+1] == 0:\n",
        "                        r_check = True\n",
        "                except: pass\n",
        "                    \n",
        "            #Checking for Y\n",
        "            elif grid[i][j] == \"Y\":\n",
        "                try:\n",
        "                    if grid[i-3][j-3] == 0 and i-3 >= 0 and j-3 >= 0 and grid[i-2][j-2] == \"Y\" and grid[i-1][j-1] == \"Y\":\n",
        "                        y_check = True\n",
        "                except: pass\n",
        "                try:\n",
        "                    if grid[i-3][j+3] == 0 and i-3 >= 0 and grid[i-2][j+2] == \"Y\" and grid [i-1][j+1] == \"Y\":\n",
        "                        y_check = True\n",
        "                except: pass\n",
        "                try:\n",
        "                    if grid[i-3][j-3] == \"Y\" and i-3 >= 0 and j-3 >= 0 and grid[i-2][j-2] == 0 and grid[i-1][j-1] == \"Y\":\n",
        "                        y_check = True\n",
        "                except: pass\n",
        "                try:\n",
        "                    if grid[i-3][j+3] == \"Y\" and i-3 >= 0 and grid[i-2][j+2] == 0 and grid [i-1][j+1] == \"Y\":\n",
        "                        y_check = True\n",
        "                except: pass\n",
        "                try:\n",
        "                    if grid[i-3][j-3] == \"Y\" and i-3 >= 0 and j-3 >= 0 and grid[i-2][j-2] == \"Y\" and grid[i-1][j-1] == 0:\n",
        "                        y_check = True\n",
        "                except: pass\n",
        "                try:\n",
        "                    if grid[i-3][j+3] == \"Y\" and i-3 >= 0 and grid[i-2][j+2] == \"Y\" and grid [i-1][j+1] == 0:\n",
        "                        y_check = True\n",
        "                except: pass\n",
        "                \n",
        "    if y_check and r_check:\n",
        "        return True\n",
        "    elif y_check:\n",
        "        return \"Y\"\n",
        "    elif r_check:\n",
        "        return \"R\"\n",
        "    else:\n",
        "        return False"
      ]
    },
    {
      "cell_type": "code",
      "execution_count": null,
      "metadata": {
        "colab": {
          "base_uri": "https://localhost:8080/"
        },
        "id": "rI8MJKNFeFNP",
        "outputId": "c9dd4c4d-3d13-4d50-b052-39e08a8cf201"
      },
      "outputs": [
        {
          "output_type": "execute_result",
          "data": {
            "text/plain": [
              "False"
            ]
          },
          "metadata": {},
          "execution_count": 55
        }
      ],
      "source": [
        "three_check(grid)"
      ]
    },
    {
      "cell_type": "code",
      "execution_count": null,
      "metadata": {
        "colab": {
          "base_uri": "https://localhost:8080/"
        },
        "id": "Uzp9krUWeFNQ",
        "outputId": "51b869bb-aa32-485a-85a4-c5fe486fa7c5"
      },
      "outputs": [
        {
          "output_type": "execute_result",
          "data": {
            "text/plain": [
              "[[0, 0, 0, 0, 0, 0, 0],\n",
              " [0, 0, 0, 0, 0, 0, 0],\n",
              " [0, 0, 0, 0, 0, 0, 0],\n",
              " [0, 0, 0, 0, 0, 0, 0],\n",
              " [0, 0, 0, 0, 0, 0, 0],\n",
              " [0, 0, 0, 0, 0, 0, 0]]"
            ]
          },
          "metadata": {},
          "execution_count": 56
        }
      ],
      "source": [
        "grid"
      ]
    },
    {
      "cell_type": "code",
      "execution_count": 15,
      "metadata": {
        "id": "h-7kebv8eFNS"
      },
      "outputs": [],
      "source": [
        "def trap(grid):\n",
        "    y_check = False\n",
        "    r_check = False\n",
        "    for i in range(6):\n",
        "        for j in range(7):\n",
        "            #Checking for R\n",
        "            if grid[i][j] == \"R\":\n",
        "                try:\n",
        "                    if grid[i][j+1] == 0 and grid[i][j+2] == \"R\" and grid[i][j+3] == \"R\" and grid[i+1][j+1] == 0 and grid[i+2][j+2] == \"R\" and grid[i+3][j+3] == \"R\":\n",
        "                        r_check = True\n",
        "                except: pass\n",
        "                try:\n",
        "                    if grid[i-1][j+1] == 0 and i-1 >= 0 and grid[i-2][j+2] == \"R\" and i-2 >= 0 and grid[i-3][j+3] == \"R\" and i-3 >= 0 and grid[i][j+1] == 0 and grid[i][j+2] == \"R\" and grid[i][j+3] == \"R\":\n",
        "                        r_check = True\n",
        "                except: pass\n",
        "                try:\n",
        "                    if grid[i][j+1] == \"R\" and grid[i][j+2] == 0 and grid[i][j+3] == \"R\" and grid[i+1][j+2] == 0 and grid[i+2][j+3] == \"R\" and grid[i+3][j+4] == \"R\":\n",
        "                        r_check = True\n",
        "                except: pass\n",
        "                try:\n",
        "                    if grid[i][j+1] == \"R\" and grid[i][j+2] == 0 and grid[i][j+3] == \"R\" and grid[i-1][j+2] == 0 and i-1 >= 0 and grid[i-2][j+3] == \"R\" and i-2 >= 0 and grid[i-3][j+4] == \"R\" and i-3 >= 0:\n",
        "                        r_check = True\n",
        "                except: pass\n",
        "                try:\n",
        "                    if grid[i+1][j+1] == \"R\" and grid[i+1][j+2] == 0 and grid[i+1][j+3] == \"R\" and grid[i+1][j+4] == \"R\" and grid[i+2][j+2] == 0 and grid[i+3][j+3] == \"R\":\n",
        "                        r_check = True\n",
        "                except: pass\n",
        "                try:\n",
        "                    if grid[i-1][j+1] == \"R\" and grid[i-1][j+2] == 0 and grid[i-1][j+3] == \"R\" and grid[i-1][j+4] == \"R\" and grid[i-2][j+2] == 0 and grid[i-3][j+3] == \"R\" and i-3 >= 0:\n",
        "                        r_check = True\n",
        "                except: pass\n",
        "                try:\n",
        "                    if grid[i+1][j] == \"R\" and grid[i+1][j+1] == \"R\" and grid[i+1][j+2] == 0 and grid[i+1][j+3] == \"R\" and grid[i+2][j+2] == 0 and grid[i+3][j+3] == \"R\":\n",
        "                        r_check = True\n",
        "                except: pass\n",
        "                try:\n",
        "                    if grid[i-1][j] == \"R\" and grid[i-1][j+1] == \"R\" and grid[i-1][j+2] == 0 and grid[i-1][j+3] == \"R\" and grid[i-2][j+2] == 0 and grid[i-3][j+3] == \"R\" and i-3 >= 0:\n",
        "                        r_check = True\n",
        "                except: pass\n",
        "                try:\n",
        "                    if grid[i][j+1] == \"R\" and grid[i][j+2] == 0 and grid[i][j+3] == \"R\" and grid[i+1][j+2] == 0 and grid[i+2][j+1] == \"R\" and grid[i+3][j] == \"R\":\n",
        "                        r_check = True\n",
        "                except: pass\n",
        "                try:\n",
        "                    if grid[i+1][j+1] == \"R\" and grid[i+2][j+2] == 0 and grid[i+3][j+3] == \"R\" and grid[i+3][j] == \"R\" and grid[i+3][j+1] == \"R\" and grid[i+3][j+2] == 0:\n",
        "                        r_check = True\n",
        "                except: pass\n",
        "                try:\n",
        "                    if grid[i][j+1] == 0 and grid[i][j+2] == \"R\" and grid[i][j+3] == \"R\" and grid[i+1][j+1] == 0 and grid[i+2][j] == \"R\" and grid[i+3][j-1] == \"R\" and j-1 >= 0:\n",
        "                        r_check = True\n",
        "                except: pass\n",
        "                try:\n",
        "                    if grid[i+1][j+1] == \"R\" and grid[i+2][j+2] == 0 and grid[i+3][j+1] == \"R\" and grid[i+3][j+2] == 0 and grid[i+3][j+3] == \"R\" and grid[i+3][j+4] == \"R\":\n",
        "                        r_check = True\n",
        "                except: pass\n",
        "                try:\n",
        "                    if grid[i][j+1] == \"R\" and grid[i][j+2] == 0 and grid[i][j+3] == \"R\" and grid[i-1][j+4] == \"R\" and i-1 >= 0 and grid[i+1][j+2] == 0 and grid[i+2][j+1] == \"R\":\n",
        "                        r_check = True\n",
        "                except: pass\n",
        "                try:\n",
        "                    if grid[i][j+1] == \"R\" and grid[i][j+2] == 0 and grid[i][j+3] == \"R\" and grid[i-2][j+1] == \"R\" and i-2 >= 0 and grid[i-1][j+2] == 0 and grid[i+1][j+4] == \"R\":\n",
        "                        r_check = True\n",
        "                except: pass\n",
        "                try:\n",
        "                    if grid[i][j+1] == 0 and grid[i][j+2] == \"R\" and grid[i][j+3] == \"R\" and grid[i-1][j+3] == \"R\" and i-1 >= 0 and grid[i+1][j+1] == 0 and grid[i+2][j] == \"R\":\n",
        "                        r_check = True\n",
        "                except: pass\n",
        "                try:\n",
        "                    if grid[i+1][j+1] == 0 and grid[i+2][j] == \"R\" and grid[i+2][j+1] == 0 and grid[i+2][j+2] == \"R\" and grid[i+2][j+3] == \"R\" and grid[i+3][j+3] == \"R\":\n",
        "                        r_check = True\n",
        "                except: pass\n",
        "                try:\n",
        "                    if grid[i][j-1] == 0 and j-1 >= 0 and grid[i][j+1] == \"R\" and grid[i][j+2] == \"R\" and grid[i+1][j+1] == \"R\" and grid[i+2][j+2] == \"R\" and grid[i-1][j-1] == 0 and i-1 >= 0:\n",
        "                        r_check = True\n",
        "                except: pass\n",
        "                try:\n",
        "                    if grid[i][j+1] == \"R\" and grid[i][j+2] == \"R\" and grid[i][j+3] == 0 and grid[i+1][j+1] == \"R\" and grid[i+2][j] == \"R\" and grid[i-1][j+3] == 0 and i-1 >= 0:\n",
        "                        r_check = True\n",
        "                except: pass\n",
        "                try:\n",
        "                    if grid[i][j-1] == 0 and j-1 >= 0 and grid[i+1][j-1] == 0 and grid[i][j+1] == \"R\" and grid[i][j+2] == \"R\" and grid[i-1][j+1] == \"R\" and grid[i-2][j+2] == \"R\" and i-2 >= 0:\n",
        "                        r_check = True\n",
        "                except: pass\n",
        "                try:\n",
        "                    if grid[i-2][j] == \"R\" and i-2 >= 0 and grid[i-1][j+1] == \"R\" and grid[i][j+1] == \"R\" and grid[i][j+2] == \"R\" and grid[i][j+3] == 0 and grid[i+1][j+3] == 0:\n",
        "                        r_check = True\n",
        "                except: pass\n",
        "                \n",
        "            #Checking for Y\n",
        "            elif grid[i][j] == \"Y\":\n",
        "                try:\n",
        "                    if grid[i][j+1] == 0 and grid[i][j+2] == \"Y\" and grid[i][j+3] == \"Y\" and grid[i+1][j+1] == 0 and grid[i+2][j+2] == \"Y\" and grid[i+3][j+3] == \"Y\":\n",
        "                        y_check = True\n",
        "                except: pass\n",
        "                try:\n",
        "                    if grid[i-1][j+1] == 0 and i-1 >= 0 and grid[i-2][j+2] == \"Y\" and i-2 >= 0 and grid[i-3][j+3] == \"Y\" and i-3 >= 0 and grid[i][j+1] == 0 and grid[i][j+2] == \"Y\" and grid[i][j+3] == \"Y\":\n",
        "                        y_check = True\n",
        "                except: pass\n",
        "                try:\n",
        "                    if grid[i][j+1] == \"Y\" and grid[i][j+2] == 0 and grid[i][j+3] == \"Y\" and grid[i+1][j+2] == 0 and grid[i+2][j+3] == \"Y\" and grid[i+3][j+4] == \"Y\":\n",
        "                        y_check = True\n",
        "                except: pass\n",
        "                try:\n",
        "                    if grid[i][j+1] == \"Y\" and grid[i][j+2] == 0 and grid[i][j+3] == \"Y\" and grid[i-1][j+2] == 0 and i-1 >= 0 and grid[i-2][j+3] == \"Y\" and i-2 >= 0 and grid[i-3][j+4] == \"Y\" and i-3 >= 0:\n",
        "                        y_check = True\n",
        "                except: pass\n",
        "                try:\n",
        "                    if grid[i+1][j+1] == \"Y\" and grid[i+1][j+2] == 0 and grid[i+1][j+3] == \"Y\" and grid[i+1][j+4] == \"Y\" and grid[i+2][j+2] == 0 and grid[i+3][j+3] == \"Y\":\n",
        "                        y_check = True\n",
        "                except: pass\n",
        "                try:\n",
        "                    if grid[i-1][j+1] == \"Y\" and grid[i-1][j+2] == 0 and grid[i-1][j+3] == \"Y\" and grid[i-1][j+4] == \"Y\" and grid[i-2][j+2] == 0 and grid[i-3][j+3] == \"Y\" and i-3 >= 0:\n",
        "                        y_check = True\n",
        "                except: pass\n",
        "                try:\n",
        "                    if grid[i+1][j] == \"Y\" and grid[i+1][j+1] == \"Y\" and grid[i+1][j+2] == 0 and grid[i+1][j+3] == \"Y\" and grid[i+2][j+2] == 0 and grid[i+3][j+3] == \"Y\":\n",
        "                        y_check = True\n",
        "                except: pass\n",
        "                try:\n",
        "                    if grid[i-1][j] == \"Y\" and grid[i-1][j+1] == \"Y\" and grid[i-1][j+2] == 0 and grid[i-1][j+3] == \"Y\" and grid[i-2][j+2] == 0 and grid[i-3][j+3] == \"Y\" and i-3 >= 0:\n",
        "                        y_check = True\n",
        "                except: pass\n",
        "                try:\n",
        "                    if grid[i][j+1] == \"Y\" and grid[i][j+2] == 0 and grid[i][j+3] == \"Y\" and grid[i+1][j+2] == 0 and grid[i+2][j+1] == \"Y\" and grid[i+3][j] == \"Y\":\n",
        "                        y_check = True\n",
        "                except: pass\n",
        "                try:\n",
        "                    if grid[i+1][j+1] == \"Y\" and grid[i+2][j+2] == 0 and grid[i+3][j+3] == \"Y\" and grid[i+3][j] == \"Y\" and grid[i+3][j+1] == \"Y\" and grid[i+3][j+2] == 0:\n",
        "                        y_check = True\n",
        "                except: pass\n",
        "                try:\n",
        "                    if grid[i][j+1] == 0 and grid[i][j+2] == \"Y\" and grid[i][j+3] == \"Y\" and grid[i+1][j+1] == 0 and grid[i+2][j] == \"Y\" and grid[i+3][j-1] == \"Y\" and j-1 >= 0:\n",
        "                        y_check = True\n",
        "                except: pass\n",
        "                try:\n",
        "                    if grid[i+1][j+1] == \"Y\" and grid[i+2][j+2] == 0 and grid[i+3][j+1] == \"Y\" and grid[i+3][j+2] == 0 and grid[i+3][j+3] == \"Y\" and grid[i+3][j+4] == \"Y\":\n",
        "                        y_check = True\n",
        "                except: pass\n",
        "                try:\n",
        "                    if grid[i][j+1] == \"Y\" and grid[i][j+2] == 0 and grid[i][j+3] == \"Y\" and grid[i-1][j+4] == \"Y\" and i-1 >= 0 and grid[i+1][j+2] == 0 and grid[i+2][j+1] == \"Y\":\n",
        "                        y_check = True\n",
        "                except: pass\n",
        "                try:\n",
        "                    if grid[i][j+1] == \"Y\" and grid[i][j+2] == 0 and grid[i][j+3] == \"Y\" and grid[i-2][j+1] == \"Y\" and i-2 >= 0 and grid[i-1][j+2] == 0 and grid[i+1][j+4] == \"Y\":\n",
        "                        y_check = True\n",
        "                except: pass\n",
        "                try:\n",
        "                    if grid[i][j+1] == 0 and grid[i][j+2] == \"Y\" and grid[i][j+3] == \"Y\" and grid[i-1][j+3] == \"Y\" and i-1 >= 0 and grid[i+1][j+1] == 0 and grid[i+2][j] == \"Y\":\n",
        "                        y_check = True\n",
        "                except: pass\n",
        "                try:\n",
        "                    if grid[i+1][j+1] == 0 and grid[i+2][j] == \"Y\" and grid[i+2][j+1] == 0 and grid[i+2][j+2] == \"Y\" and grid[i+2][j+3] == \"Y\" and grid[i+3][j+3] == \"Y\":\n",
        "                        y_check = True\n",
        "                except: pass\n",
        "                try:\n",
        "                    if grid[i][j-1] == 0 and j-1 >= 0 and grid[i][j+1] == \"Y\" and grid[i][j+2] == \"Y\" and grid[i+1][j+1] == \"Y\" and grid[i+2][j+2] == \"Y\" and grid[i-1][j-1] == 0 and i-1 >= 0:\n",
        "                        y_check = True\n",
        "                except: pass\n",
        "                try:\n",
        "                    if grid[i][j+1] == \"Y\" and grid[i][j+2] == \"Y\" and grid[i][j+3] == 0 and grid[i+1][j+1] == \"Y\" and grid[i+2][j] == \"Y\" and grid[i-1][j+3] == 0 and i-1 >= 0:\n",
        "                        y_check = True\n",
        "                except: pass\n",
        "                try:\n",
        "                    if grid[i][j-1] == 0 and j-1 >= 0 and grid[i+1][j-1] == 0 and grid[i][j+1] == \"Y\" and grid[i][j+2] == \"Y\" and grid[i-1][j+1] == \"Y\" and grid[i-2][j+2] == \"Y\" and i-2 >= 0:\n",
        "                        y_check = True\n",
        "                except: pass\n",
        "                try:\n",
        "                    if grid[i-2][j] == \"Y\" and i-2 >= 0 and grid[i-1][j+1] == \"Y\" and grid[i][j+1] == \"Y\" and grid[i][j+2] == \"Y\" and grid[i][j+3] == 0 and grid[i+1][j+3] == 0:\n",
        "                        y_check = True\n",
        "                except: pass\n",
        "    \n",
        "    if y_check and r_check:\n",
        "        return True\n",
        "    elif y_check:\n",
        "        return \"Y\"\n",
        "    elif r_check:\n",
        "        return \"R\"\n",
        "    else:\n",
        "        return False"
      ]
    },
    {
      "cell_type": "code",
      "execution_count": 16,
      "metadata": {
        "id": "5qBbemSNeFNU"
      },
      "outputs": [],
      "source": [
        "grid = initial_state()"
      ]
    },
    {
      "cell_type": "code",
      "execution_count": 17,
      "metadata": {
        "scrolled": true,
        "colab": {
          "base_uri": "https://localhost:8080/"
        },
        "id": "LgnURghfeFNV",
        "outputId": "adf4f8de-88bb-4153-8d43-0f5f5db83a87"
      },
      "outputs": [
        {
          "output_type": "stream",
          "name": "stdout",
          "text": [
            "[[0 0 0 0 0 0 0]\n",
            " [0 0 0 0 0 0 0]\n",
            " [0 0 0 0 0 0 0]\n",
            " [0 0 0 0 0 0 0]\n",
            " [0 0 0 0 0 0 0]\n",
            " [0 0 0 0 0 0 0]]\n"
          ]
        }
      ],
      "source": [
        "print(np.matrix(grid))"
      ]
    },
    {
      "cell_type": "code",
      "execution_count": 18,
      "metadata": {
        "colab": {
          "base_uri": "https://localhost:8080/"
        },
        "id": "TQ82f54YeFNX",
        "outputId": "f1640144-8134-43da-b212-4fe5308042ea"
      },
      "outputs": [
        {
          "output_type": "execute_result",
          "data": {
            "text/plain": [
              "False"
            ]
          },
          "metadata": {},
          "execution_count": 18
        }
      ],
      "source": [
        "trap(grid)"
      ]
    },
    {
      "cell_type": "code",
      "execution_count": 19,
      "metadata": {
        "id": "D0yav1coeFNZ"
      },
      "outputs": [],
      "source": [
        "def actions(grid):\n",
        "    moves = []\n",
        "    for i in range(7):\n",
        "        row = 5\n",
        "        while grid[row][i] != 0 and row >= 0:\n",
        "            row -= 1\n",
        "        if grid[row][i] == 0:\n",
        "            moves.append([row,i])\n",
        "    random.shuffle(moves)\n",
        "    return moves"
      ]
    },
    {
      "cell_type": "code",
      "execution_count": 20,
      "metadata": {
        "colab": {
          "base_uri": "https://localhost:8080/"
        },
        "id": "X_Bo_0reeFNa",
        "outputId": "44b7bf7d-ca97-45bd-8e76-6abab3af24ea"
      },
      "outputs": [
        {
          "output_type": "execute_result",
          "data": {
            "text/plain": [
              "[[5, 3], [5, 2], [5, 6], [5, 1], [5, 0], [5, 4], [5, 5]]"
            ]
          },
          "metadata": {},
          "execution_count": 20
        }
      ],
      "source": [
        "actions(grid)"
      ]
    },
    {
      "cell_type": "code",
      "execution_count": 21,
      "metadata": {
        "id": "s8ZuEAzYeFNb"
      },
      "outputs": [],
      "source": [
        "def terminal(grid):\n",
        "    if tie(grid) or winner(grid):\n",
        "        return True\n",
        "    return False"
      ]
    },
    {
      "cell_type": "code",
      "execution_count": 22,
      "metadata": {
        "colab": {
          "base_uri": "https://localhost:8080/"
        },
        "id": "CSs9RLQIeFNc",
        "outputId": "edcb2235-1d99-4699-b82d-c97c27d03fec"
      },
      "outputs": [
        {
          "output_type": "execute_result",
          "data": {
            "text/plain": [
              "False"
            ]
          },
          "metadata": {},
          "execution_count": 22
        }
      ],
      "source": [
        "terminal(grid)"
      ]
    },
    {
      "cell_type": "code",
      "execution_count": 23,
      "metadata": {
        "id": "d1xHWU_IeFNd"
      },
      "outputs": [],
      "source": [
        "def player(grid):\n",
        "    #Red goes first\n",
        "    red_count = 0\n",
        "    yellow_count = 0\n",
        "    for i in range(6):\n",
        "        for j in range(7):\n",
        "            if grid[i][j] == \"R\":\n",
        "                red_count += 1\n",
        "            elif grid[i][j] == \"Y\":\n",
        "                yellow_count += 1\n",
        "\n",
        "    if red_count == yellow_count:\n",
        "        return \"R\"\n",
        "    else:\n",
        "        return \"Y\""
      ]
    },
    {
      "cell_type": "code",
      "execution_count": 24,
      "metadata": {
        "colab": {
          "base_uri": "https://localhost:8080/",
          "height": 37
        },
        "id": "oD_1W5TaeFNf",
        "outputId": "a453d564-4376-4460-88db-7e9c94fa9da9"
      },
      "outputs": [
        {
          "output_type": "execute_result",
          "data": {
            "application/vnd.google.colaboratory.intrinsic+json": {
              "type": "string"
            },
            "text/plain": [
              "'R'"
            ]
          },
          "metadata": {},
          "execution_count": 24
        }
      ],
      "source": [
        "player(grid)"
      ]
    },
    {
      "cell_type": "code",
      "execution_count": 25,
      "metadata": {
        "id": "S26FnqO9eFNg"
      },
      "outputs": [],
      "source": [
        "def result(grid, move):\n",
        "    c = copy.deepcopy(grid)\n",
        "    y = move[0]\n",
        "    x = move[1]\n",
        "    mark = player(grid)\n",
        "    c[y][x] = mark\n",
        "    return c"
      ]
    },
    {
      "cell_type": "code",
      "execution_count": 26,
      "metadata": {
        "colab": {
          "base_uri": "https://localhost:8080/"
        },
        "id": "-TXWdFryeFNh",
        "outputId": "15eb0375-ebe4-4778-a722-27c9a7231558"
      },
      "outputs": [
        {
          "output_type": "stream",
          "name": "stdout",
          "text": [
            "[['0' '0' '0' '0' '0' '0' '0']\n",
            " ['0' '0' '0' '0' '0' '0' '0']\n",
            " ['0' '0' '0' '0' '0' '0' '0']\n",
            " ['0' '0' '0' '0' '0' '0' '0']\n",
            " ['0' '0' '0' '0' '0' '0' '0']\n",
            " ['R' '0' '0' '0' '0' '0' '0']]\n"
          ]
        }
      ],
      "source": [
        "print(np.matrix(result(grid, [5,0])))"
      ]
    },
    {
      "cell_type": "code",
      "execution_count": 27,
      "metadata": {
        "colab": {
          "base_uri": "https://localhost:8080/"
        },
        "id": "SE8HvVgQeFNh",
        "outputId": "6acf6d34-86c2-4ffb-b609-5e852dc1c50b"
      },
      "outputs": [
        {
          "output_type": "stream",
          "name": "stdout",
          "text": [
            "[[0 0 0 0 0 0 0]\n",
            " [0 0 0 0 0 0 0]\n",
            " [0 0 0 0 0 0 0]\n",
            " [0 0 0 0 0 0 0]\n",
            " [0 0 0 0 0 0 0]\n",
            " [0 0 0 0 0 0 0]]\n"
          ]
        }
      ],
      "source": [
        "print(np.matrix(grid))"
      ]
    },
    {
      "cell_type": "code",
      "execution_count": 28,
      "metadata": {
        "id": "pFG6DvDPeFNi"
      },
      "outputs": [],
      "source": [
        "def utility(grid):\n",
        "    if winner(grid) == \"R\":\n",
        "        return 1\n",
        "    elif winner(grid) == \"Y\":\n",
        "        return -1\n",
        "    elif trap(grid) == \"R\":\n",
        "        return 0.9\n",
        "    elif trap(grid) == \"Y\":\n",
        "        return -0.9\n",
        "    elif trap(grid) == True:\n",
        "        if player(grid) == \"R\":\n",
        "            return 0.6\n",
        "        else:\n",
        "            return -0.6\n",
        "    elif three_check(grid) == \"R\":\n",
        "        return 0.5\n",
        "    elif three_check(grid) == \"Y\":\n",
        "        return -0.5\n",
        "    elif three_check(grid) == True:\n",
        "        if player(grid) == \"R\":\n",
        "            return 0.25\n",
        "        else:\n",
        "            return -0.25\n",
        "    else:\n",
        "        return 0"
      ]
    },
    {
      "cell_type": "code",
      "execution_count": null,
      "metadata": {
        "colab": {
          "base_uri": "https://localhost:8080/"
        },
        "id": "LTWSMVSoeFNj",
        "outputId": "e4b0795a-4e18-40b5-b216-cd1c29242b5c"
      },
      "outputs": [
        {
          "output_type": "execute_result",
          "data": {
            "text/plain": [
              "0"
            ]
          },
          "metadata": {},
          "execution_count": 71
        }
      ],
      "source": [
        "utility(grid)"
      ]
    },
    {
      "cell_type": "code",
      "execution_count": 29,
      "metadata": {
        "id": "0nPtjU77eFNk"
      },
      "outputs": [],
      "source": [
        "def Max_value(grid):\n",
        "    if terminal(grid):\n",
        "        return utility(grid)\n",
        "\n",
        "    v = -math.inf\n",
        "    for a in actions(grid):\n",
        "        v = max(v, Min_value(result(grid, a)))\n",
        "\n",
        "    return v"
      ]
    },
    {
      "cell_type": "code",
      "execution_count": 30,
      "metadata": {
        "id": "cOzUfV4seFNm"
      },
      "outputs": [],
      "source": [
        "def Min_value(grid):\n",
        "    if terminal(grid):\n",
        "        return utility(grid)\n",
        "\n",
        "    v = math.inf\n",
        "    for a in actions(grid):\n",
        "        v = min(v, Max_value(result(grid, a)))\n",
        "\n",
        "    return v"
      ]
    },
    {
      "cell_type": "code",
      "execution_count": 31,
      "metadata": {
        "id": "82qnSVZweFNo"
      },
      "outputs": [],
      "source": [
        "def minimax(grid):\n",
        "    if terminal(grid) == True:\n",
        "        return None\n",
        "    p = player(grid)\n",
        "\n",
        "    if p == \"R\":\n",
        "        reward = -1*math.inf\n",
        "        for a in actions(grid):\n",
        "            v = Min_value(result(grid, a))\n",
        "            if v > reward:\n",
        "                reward = v\n",
        "                move = a\n",
        "        return move\n",
        "\n",
        "    elif p == \"Y\":\n",
        "        reward = math.inf\n",
        "        for a in actions(grid):\n",
        "            v = Max_value(result(grid, a))\n",
        "            if v < reward:\n",
        "                reward = v\n",
        "                move = a\n",
        "        return move"
      ]
    },
    {
      "cell_type": "code",
      "execution_count": 32,
      "metadata": {
        "id": "5-iaKUaYeFNo"
      },
      "outputs": [],
      "source": [
        "def Max_value_depth(grid, depth):\n",
        "    if terminal(grid) or depth == 0:\n",
        "        return utility(grid)\n",
        "\n",
        "    v = -math.inf\n",
        "    for a in actions(grid):\n",
        "        v = max(v, Min_value_depth(result(grid, a), depth-1))\n",
        "\n",
        "    return v"
      ]
    },
    {
      "cell_type": "code",
      "execution_count": 33,
      "metadata": {
        "id": "tIhH_yQyeFNp"
      },
      "outputs": [],
      "source": [
        "def Min_value_depth(grid, depth):\n",
        "    if terminal(grid) or depth == 0:\n",
        "        return utility(grid)\n",
        "\n",
        "    v = math.inf\n",
        "    for a in actions(grid):\n",
        "        v = min(v, Max_value_depth(result(grid, a), depth-1))\n",
        "\n",
        "    return v"
      ]
    },
    {
      "cell_type": "code",
      "execution_count": 34,
      "metadata": {
        "id": "7edQ4N6ueFNr"
      },
      "outputs": [],
      "source": [
        "def minimax_depth_revised(grid, depth):\n",
        "    if terminal(grid) == True or depth == 0:\n",
        "        return utility(grid)\n",
        "    p = player(grid)\n",
        "\n",
        "    if p == \"R\":\n",
        "        reward = -1*math.inf\n",
        "        for a in actions(grid):\n",
        "            v = Min_value_depth(result(grid, a), depth-1)\n",
        "            print(f\"R {v}\")\n",
        "            if v > reward:\n",
        "                reward = v\n",
        "                move = a\n",
        "        return move\n",
        "\n",
        "    elif p == \"Y\":\n",
        "        reward = math.inf\n",
        "        for a in actions(grid):\n",
        "            v = Max_value_depth(result(grid, a), depth-1)\n",
        "            print(f\"Y {v}\")\n",
        "            if v < reward:\n",
        "                reward = v\n",
        "                move = a\n",
        "        return move"
      ]
    },
    {
      "cell_type": "code",
      "execution_count": null,
      "metadata": {
        "id": "DppmghuYeFNv"
      },
      "outputs": [],
      "source": [
        ""
      ]
    },
    {
      "cell_type": "code",
      "execution_count": null,
      "metadata": {
        "id": "zbDei-TceFNw"
      },
      "outputs": [],
      "source": [
        ""
      ]
    },
    {
      "cell_type": "code",
      "execution_count": null,
      "metadata": {
        "id": "INROXwjGeFNy"
      },
      "outputs": [],
      "source": [
        ""
      ]
    },
    {
      "cell_type": "code",
      "execution_count": null,
      "metadata": {
        "colab": {
          "base_uri": "https://localhost:8080/"
        },
        "id": "UYLMpTZFeFNz",
        "outputId": "23016e65-8412-48fb-815f-069752f47eec"
      },
      "outputs": [
        {
          "output_type": "stream",
          "name": "stdout",
          "text": [
            "[[0 0 0 0 0 0 0]\n",
            " [0 0 0 0 0 0 0]\n",
            " [0 0 0 0 0 0 0]\n",
            " [0 0 0 0 0 0 0]\n",
            " [0 0 0 0 0 0 0]\n",
            " [0 0 0 0 0 0 0]]\n"
          ]
        }
      ],
      "source": [
        "print(np.matrix(grid))"
      ]
    },
    {
      "cell_type": "code",
      "execution_count": null,
      "metadata": {
        "id": "0FKo88J3eFN1"
      },
      "outputs": [],
      "source": [
        ""
      ]
    },
    {
      "cell_type": "code",
      "execution_count": 35,
      "metadata": {
        "id": "ey529E3deFN2"
      },
      "outputs": [],
      "source": [
        "def choose_player():\n",
        "    print(\"Red goes first & yellow goes second...\")\n",
        "    pick = input(\"Do you want to play as red or yellow? (Type r or y): \")\n",
        "    print(\"\\n\")\n",
        "    if pick.lower() == \"r\":\n",
        "        return \"R\"\n",
        "    else:\n",
        "        return \"Y\""
      ]
    },
    {
      "cell_type": "code",
      "execution_count": 36,
      "metadata": {
        "id": "x63720iQeFN3",
        "colab": {
          "base_uri": "https://localhost:8080/"
        },
        "outputId": "c4f847b6-2252-4cca-c14f-e5df91abe3ef"
      },
      "outputs": [
        {
          "output_type": "stream",
          "name": "stdout",
          "text": [
            "[[0 0 0 0 0 0 0]\n",
            " [0 0 0 0 0 0 0]\n",
            " [0 0 0 0 0 0 0]\n",
            " [0 0 0 0 0 0 0]\n",
            " [0 0 0 0 0 0 0]\n",
            " [0 0 0 0 0 0 0]]\n",
            "\n",
            " 1 2 3 4 5 6 7\n",
            "| | | | | | | |\n",
            "---------------\n",
            "| | | | | | | |\n",
            "---------------\n",
            "| | | | | | | |\n",
            "---------------\n",
            "| | | | | | | |\n",
            "---------------\n",
            "| | | | | | | |\n",
            "---------------\n",
            "| | | | | | | |\n",
            "\n",
            "\n"
          ]
        }
      ],
      "source": [
        "print(np.matrix(grid))\n",
        "print()\n",
        "output_map(grid)"
      ]
    },
    {
      "cell_type": "code",
      "execution_count": 37,
      "metadata": {
        "id": "6ICQ4J99eFN4"
      },
      "outputs": [],
      "source": [
        "def ai_move():\n",
        "    global grid\n",
        "    p = player(grid)\n",
        "    print(f\"\\nIt is {p}‘s Turn.\")\n",
        "    print(np.matrix(grid))\n",
        "    print(\"\\nAI Thinking...\")\n",
        "    choice = minimax(grid)\n",
        "    y = choice[0]\n",
        "    x = choice[1]\n",
        "    grid[y][x] = p"
      ]
    },
    {
      "cell_type": "code",
      "execution_count": 38,
      "metadata": {
        "id": "yrOrYP27eFN7"
      },
      "outputs": [],
      "source": [
        "def ai_move_depth_revised(depth):\n",
        "    global grid\n",
        "    p = player(grid)\n",
        "    choice = [8,7]\n",
        "    cls()\n",
        "    print(f\"\\nIt Is The AI‘s Turn.\")\n",
        "    output_map(grid)\n",
        "    print(\"\\nAI Thinking...\")\n",
        "    choice = minimax_depth_revised(grid, depth)\n",
        "    y = choice[0]\n",
        "    x = choice[1]\n",
        "    print(f\"AI chose column {x+1}.\")\n",
        "    grid[y][x] = p"
      ]
    },
    {
      "cell_type": "code",
      "execution_count": null,
      "metadata": {
        "id": "9vT9JPY0eFN8"
      },
      "outputs": [],
      "source": [
        ""
      ]
    },
    {
      "cell_type": "code",
      "execution_count": 39,
      "metadata": {
        "id": "pdamPqneeFN-"
      },
      "outputs": [],
      "source": [
        "def human_move():\n",
        "    global grid\n",
        "    p = player(grid)\n",
        "    cls()\n",
        "    print(f\"\\nIt Is Your Turn.\")\n",
        "    output_map(grid)\n",
        "    col = int(input(\"Enter the column number (1-7): \"))\n",
        "    print(f\"You chose column {col}.\")\n",
        "    col -= 1\n",
        "    m = actions(grid)\n",
        "    for move in m:\n",
        "        if move[1] == col:\n",
        "            y = move[0]\n",
        "            x = move[1]\n",
        "            grid[y][x] = p"
      ]
    },
    {
      "cell_type": "code",
      "source": [
        "output_map(grid)"
      ],
      "metadata": {
        "colab": {
          "base_uri": "https://localhost:8080/"
        },
        "id": "a8ufoWtQxWdX",
        "outputId": "892a5886-9cca-45ca-fec2-63c2ab17a30c"
      },
      "execution_count": 40,
      "outputs": [
        {
          "output_type": "stream",
          "name": "stdout",
          "text": [
            " 1 2 3 4 5 6 7\n",
            "| | | | | | | |\n",
            "---------------\n",
            "| | | | | | | |\n",
            "---------------\n",
            "| | | | | | | |\n",
            "---------------\n",
            "| | | | | | | |\n",
            "---------------\n",
            "| | | | | | | |\n",
            "---------------\n",
            "| | | | | | | |\n",
            "\n",
            "\n"
          ]
        }
      ]
    },
    {
      "cell_type": "code",
      "execution_count": 41,
      "metadata": {
        "id": "Dl8u4VuneFOA"
      },
      "outputs": [],
      "source": [
        "def play():\n",
        "    global grid\n",
        "    grid = initial_state()\n",
        "    human = choose_player()\n",
        "    diff = 3\n",
        "    while terminal(grid) == False:\n",
        "        if player(grid) == human:\n",
        "            human_move()\n",
        "        else:\n",
        "            ai_move_depth_revised(diff+1)\n",
        "    w = winner(grid)\n",
        "    output_map(grid)\n",
        "    grid = initial_state()\n",
        "    if human == w:\n",
        "        print(\"\\nHuman Wins!\")\n",
        "    elif w == False:\n",
        "        print(\"\\nTie!\")\n",
        "    else:\n",
        "        print(\"\\nAI Wins!\")"
      ]
    },
    {
      "cell_type": "code",
      "execution_count": 42,
      "metadata": {
        "colab": {
          "base_uri": "https://localhost:8080/"
        },
        "id": "P94VD5o_eFOB",
        "outputId": "86f88c25-f6e9-4947-a4c9-d6906010ace0"
      },
      "outputs": [
        {
          "output_type": "stream",
          "name": "stdout",
          "text": [
            "Red goes first & yellow goes second...\n",
            "Do you want to play as red or yellow? (Type r or y): y\n",
            "\n",
            "\n",
            "\n",
            "It Is The AI‘s Turn.\n",
            " 1 2 3 4 5 6 7\n",
            "| | | | | | | |\n",
            "---------------\n",
            "| | | | | | | |\n",
            "---------------\n",
            "| | | | | | | |\n",
            "---------------\n",
            "| | | | | | | |\n",
            "---------------\n",
            "| | | | | | | |\n",
            "---------------\n",
            "| | | | | | | |\n",
            "\n",
            "\n",
            "\n",
            "AI Thinking...\n",
            "R 0\n",
            "R 0\n",
            "R 0\n",
            "R 0\n",
            "R 0\n",
            "R 0\n",
            "R 0\n",
            "AI chose column 3.\n",
            "\n",
            "It Is Your Turn.\n",
            " 1 2 3 4 5 6 7\n",
            "| | | | | | | |\n",
            "---------------\n",
            "| | | | | | | |\n",
            "---------------\n",
            "| | | | | | | |\n",
            "---------------\n",
            "| | | | | | | |\n",
            "---------------\n",
            "| | | | | | | |\n",
            "---------------\n",
            "| | |\u001b[1;31mR\u001b[0;0m| | | | |\n",
            "\n",
            "\n",
            "Enter the column number (1-7): 2\n",
            "You chose column 2.\n",
            "\n",
            "It Is The AI‘s Turn.\n",
            " 1 2 3 4 5 6 7\n",
            "| | | | | | | |\n",
            "---------------\n",
            "| | | | | | | |\n",
            "---------------\n",
            "| | | | | | | |\n",
            "---------------\n",
            "| | | | | | | |\n",
            "---------------\n",
            "| | | | | | | |\n",
            "---------------\n",
            "| |\u001b[1;33;44mY\u001b[0;0m|\u001b[1;31mR\u001b[0;0m| | | | |\n",
            "\n",
            "\n",
            "\n",
            "AI Thinking...\n",
            "R 0\n",
            "R 0\n",
            "R 0\n",
            "R 0\n",
            "R 0\n",
            "R 0\n",
            "R 0\n",
            "AI chose column 3.\n",
            "\n",
            "It Is Your Turn.\n",
            " 1 2 3 4 5 6 7\n",
            "| | | | | | | |\n",
            "---------------\n",
            "| | | | | | | |\n",
            "---------------\n",
            "| | | | | | | |\n",
            "---------------\n",
            "| | | | | | | |\n",
            "---------------\n",
            "| | |\u001b[1;31mR\u001b[0;0m| | | | |\n",
            "---------------\n",
            "| |\u001b[1;33;44mY\u001b[0;0m|\u001b[1;31mR\u001b[0;0m| | | | |\n",
            "\n",
            "\n",
            "Enter the column number (1-7): 4\n",
            "You chose column 4.\n",
            "\n",
            "It Is The AI‘s Turn.\n",
            " 1 2 3 4 5 6 7\n",
            "| | | | | | | |\n",
            "---------------\n",
            "| | | | | | | |\n",
            "---------------\n",
            "| | | | | | | |\n",
            "---------------\n",
            "| | | | | | | |\n",
            "---------------\n",
            "| | |\u001b[1;31mR\u001b[0;0m| | | | |\n",
            "---------------\n",
            "| |\u001b[1;33;44mY\u001b[0;0m|\u001b[1;31mR\u001b[0;0m|\u001b[1;33;44mY\u001b[0;0m| | | |\n",
            "\n",
            "\n",
            "\n",
            "AI Thinking...\n",
            "R 0\n",
            "R 0\n",
            "R 0\n",
            "R 0\n",
            "R 0\n",
            "R 0\n",
            "R 0\n",
            "AI chose column 3.\n",
            "\n",
            "It Is Your Turn.\n",
            " 1 2 3 4 5 6 7\n",
            "| | | | | | | |\n",
            "---------------\n",
            "| | | | | | | |\n",
            "---------------\n",
            "| | | | | | | |\n",
            "---------------\n",
            "| | |\u001b[1;31mR\u001b[0;0m| | | | |\n",
            "---------------\n",
            "| | |\u001b[1;31mR\u001b[0;0m| | | | |\n",
            "---------------\n",
            "| |\u001b[1;33;44mY\u001b[0;0m|\u001b[1;31mR\u001b[0;0m|\u001b[1;33;44mY\u001b[0;0m| | | |\n",
            "\n",
            "\n",
            "Enter the column number (1-7): 3\n",
            "You chose column 3.\n",
            "\n",
            "It Is The AI‘s Turn.\n",
            " 1 2 3 4 5 6 7\n",
            "| | | | | | | |\n",
            "---------------\n",
            "| | | | | | | |\n",
            "---------------\n",
            "| | |\u001b[1;33;44mY\u001b[0;0m| | | | |\n",
            "---------------\n",
            "| | |\u001b[1;31mR\u001b[0;0m| | | | |\n",
            "---------------\n",
            "| | |\u001b[1;31mR\u001b[0;0m| | | | |\n",
            "---------------\n",
            "| |\u001b[1;33;44mY\u001b[0;0m|\u001b[1;31mR\u001b[0;0m|\u001b[1;33;44mY\u001b[0;0m| | | |\n",
            "\n",
            "\n",
            "\n",
            "AI Thinking...\n",
            "R 0.25\n",
            "R 0.25\n",
            "R 0\n",
            "R 0\n",
            "R 0\n",
            "R 0\n",
            "R 0\n",
            "AI chose column 2.\n",
            "\n",
            "It Is Your Turn.\n",
            " 1 2 3 4 5 6 7\n",
            "| | | | | | | |\n",
            "---------------\n",
            "| | | | | | | |\n",
            "---------------\n",
            "| | |\u001b[1;33;44mY\u001b[0;0m| | | | |\n",
            "---------------\n",
            "| | |\u001b[1;31mR\u001b[0;0m| | | | |\n",
            "---------------\n",
            "| |\u001b[1;31mR\u001b[0;0m|\u001b[1;31mR\u001b[0;0m| | | | |\n",
            "---------------\n",
            "| |\u001b[1;33;44mY\u001b[0;0m|\u001b[1;31mR\u001b[0;0m|\u001b[1;33;44mY\u001b[0;0m| | | |\n",
            "\n",
            "\n",
            "Enter the column number (1-7): 4\n",
            "You chose column 4.\n",
            "\n",
            "It Is The AI‘s Turn.\n",
            " 1 2 3 4 5 6 7\n",
            "| | | | | | | |\n",
            "---------------\n",
            "| | | | | | | |\n",
            "---------------\n",
            "| | |\u001b[1;33;44mY\u001b[0;0m| | | | |\n",
            "---------------\n",
            "| | |\u001b[1;31mR\u001b[0;0m| | | | |\n",
            "---------------\n",
            "| |\u001b[1;31mR\u001b[0;0m|\u001b[1;31mR\u001b[0;0m|\u001b[1;33;44mY\u001b[0;0m| | | |\n",
            "---------------\n",
            "| |\u001b[1;33;44mY\u001b[0;0m|\u001b[1;31mR\u001b[0;0m|\u001b[1;33;44mY\u001b[0;0m| | | |\n",
            "\n",
            "\n",
            "\n",
            "AI Thinking...\n",
            "R 0\n",
            "R 0\n",
            "R 0\n",
            "R 0.25\n",
            "R 0.25\n",
            "R 0\n",
            "R 0.25\n",
            "AI chose column 1.\n",
            "\n",
            "It Is Your Turn.\n",
            " 1 2 3 4 5 6 7\n",
            "| | | | | | | |\n",
            "---------------\n",
            "| | | | | | | |\n",
            "---------------\n",
            "| | |\u001b[1;33;44mY\u001b[0;0m| | | | |\n",
            "---------------\n",
            "| | |\u001b[1;31mR\u001b[0;0m| | | | |\n",
            "---------------\n",
            "| |\u001b[1;31mR\u001b[0;0m|\u001b[1;31mR\u001b[0;0m|\u001b[1;33;44mY\u001b[0;0m| | | |\n",
            "---------------\n",
            "|\u001b[1;31mR\u001b[0;0m|\u001b[1;33;44mY\u001b[0;0m|\u001b[1;31mR\u001b[0;0m|\u001b[1;33;44mY\u001b[0;0m| | | |\n",
            "\n",
            "\n",
            "Enter the column number (1-7): 5\n",
            "You chose column 5.\n",
            "\n",
            "It Is The AI‘s Turn.\n",
            " 1 2 3 4 5 6 7\n",
            "| | | | | | | |\n",
            "---------------\n",
            "| | | | | | | |\n",
            "---------------\n",
            "| | |\u001b[1;33;44mY\u001b[0;0m| | | | |\n",
            "---------------\n",
            "| | |\u001b[1;31mR\u001b[0;0m| | | | |\n",
            "---------------\n",
            "| |\u001b[1;31mR\u001b[0;0m|\u001b[1;31mR\u001b[0;0m|\u001b[1;33;44mY\u001b[0;0m| | | |\n",
            "---------------\n",
            "|\u001b[1;31mR\u001b[0;0m|\u001b[1;33;44mY\u001b[0;0m|\u001b[1;31mR\u001b[0;0m|\u001b[1;33;44mY\u001b[0;0m|\u001b[1;33;44mY\u001b[0;0m| | |\n",
            "\n",
            "\n",
            "\n",
            "AI Thinking...\n",
            "R 0.25\n",
            "R 0.25\n",
            "R 0.25\n",
            "R 0.25\n",
            "R 0.25\n",
            "R 0.25\n",
            "R 0.25\n",
            "AI chose column 7.\n",
            "\n",
            "It Is Your Turn.\n",
            " 1 2 3 4 5 6 7\n",
            "| | | | | | | |\n",
            "---------------\n",
            "| | | | | | | |\n",
            "---------------\n",
            "| | |\u001b[1;33;44mY\u001b[0;0m| | | | |\n",
            "---------------\n",
            "| | |\u001b[1;31mR\u001b[0;0m| | | | |\n",
            "---------------\n",
            "| |\u001b[1;31mR\u001b[0;0m|\u001b[1;31mR\u001b[0;0m|\u001b[1;33;44mY\u001b[0;0m| | | |\n",
            "---------------\n",
            "|\u001b[1;31mR\u001b[0;0m|\u001b[1;33;44mY\u001b[0;0m|\u001b[1;31mR\u001b[0;0m|\u001b[1;33;44mY\u001b[0;0m|\u001b[1;33;44mY\u001b[0;0m| |\u001b[1;31mR\u001b[0;0m|\n",
            "\n",
            "\n",
            "Enter the column number (1-7): 5\n",
            "You chose column 5.\n",
            "\n",
            "It Is The AI‘s Turn.\n",
            " 1 2 3 4 5 6 7\n",
            "| | | | | | | |\n",
            "---------------\n",
            "| | | | | | | |\n",
            "---------------\n",
            "| | |\u001b[1;33;44mY\u001b[0;0m| | | | |\n",
            "---------------\n",
            "| | |\u001b[1;31mR\u001b[0;0m| | | | |\n",
            "---------------\n",
            "| |\u001b[1;31mR\u001b[0;0m|\u001b[1;31mR\u001b[0;0m|\u001b[1;33;44mY\u001b[0;0m|\u001b[1;33;44mY\u001b[0;0m| | |\n",
            "---------------\n",
            "|\u001b[1;31mR\u001b[0;0m|\u001b[1;33;44mY\u001b[0;0m|\u001b[1;31mR\u001b[0;0m|\u001b[1;33;44mY\u001b[0;0m|\u001b[1;33;44mY\u001b[0;0m| |\u001b[1;31mR\u001b[0;0m|\n",
            "\n",
            "\n",
            "\n",
            "AI Thinking...\n",
            "R 0.25\n",
            "R 0\n",
            "R 0.25\n",
            "R 0.25\n",
            "R 0.25\n",
            "R 0\n",
            "R 0\n",
            "AI chose column 6.\n",
            "\n",
            "It Is Your Turn.\n",
            " 1 2 3 4 5 6 7\n",
            "| | | | | | | |\n",
            "---------------\n",
            "| | | | | | | |\n",
            "---------------\n",
            "| | |\u001b[1;33;44mY\u001b[0;0m| | | | |\n",
            "---------------\n",
            "| | |\u001b[1;31mR\u001b[0;0m| | | | |\n",
            "---------------\n",
            "| |\u001b[1;31mR\u001b[0;0m|\u001b[1;31mR\u001b[0;0m|\u001b[1;33;44mY\u001b[0;0m|\u001b[1;33;44mY\u001b[0;0m| | |\n",
            "---------------\n",
            "|\u001b[1;31mR\u001b[0;0m|\u001b[1;33;44mY\u001b[0;0m|\u001b[1;31mR\u001b[0;0m|\u001b[1;33;44mY\u001b[0;0m|\u001b[1;33;44mY\u001b[0;0m|\u001b[1;31mR\u001b[0;0m|\u001b[1;31mR\u001b[0;0m|\n",
            "\n",
            "\n",
            "Enter the column number (1-7): 5\n",
            "You chose column 5.\n",
            "\n",
            "It Is The AI‘s Turn.\n",
            " 1 2 3 4 5 6 7\n",
            "| | | | | | | |\n",
            "---------------\n",
            "| | | | | | | |\n",
            "---------------\n",
            "| | |\u001b[1;33;44mY\u001b[0;0m| | | | |\n",
            "---------------\n",
            "| | |\u001b[1;31mR\u001b[0;0m| |\u001b[1;33;44mY\u001b[0;0m| | |\n",
            "---------------\n",
            "| |\u001b[1;31mR\u001b[0;0m|\u001b[1;31mR\u001b[0;0m|\u001b[1;33;44mY\u001b[0;0m|\u001b[1;33;44mY\u001b[0;0m| | |\n",
            "---------------\n",
            "|\u001b[1;31mR\u001b[0;0m|\u001b[1;33;44mY\u001b[0;0m|\u001b[1;31mR\u001b[0;0m|\u001b[1;33;44mY\u001b[0;0m|\u001b[1;33;44mY\u001b[0;0m|\u001b[1;31mR\u001b[0;0m|\u001b[1;31mR\u001b[0;0m|\n",
            "\n",
            "\n",
            "\n",
            "AI Thinking...\n",
            "R -1\n",
            "R -1\n",
            "R -1\n",
            "R -1\n",
            "R 0.25\n",
            "R -1\n",
            "R -1\n",
            "AI chose column 5.\n",
            "\n",
            "It Is Your Turn.\n",
            " 1 2 3 4 5 6 7\n",
            "| | | | | | | |\n",
            "---------------\n",
            "| | | | | | | |\n",
            "---------------\n",
            "| | |\u001b[1;33;44mY\u001b[0;0m| |\u001b[1;31mR\u001b[0;0m| | |\n",
            "---------------\n",
            "| | |\u001b[1;31mR\u001b[0;0m| |\u001b[1;33;44mY\u001b[0;0m| | |\n",
            "---------------\n",
            "| |\u001b[1;31mR\u001b[0;0m|\u001b[1;31mR\u001b[0;0m|\u001b[1;33;44mY\u001b[0;0m|\u001b[1;33;44mY\u001b[0;0m| | |\n",
            "---------------\n",
            "|\u001b[1;31mR\u001b[0;0m|\u001b[1;33;44mY\u001b[0;0m|\u001b[1;31mR\u001b[0;0m|\u001b[1;33;44mY\u001b[0;0m|\u001b[1;33;44mY\u001b[0;0m|\u001b[1;31mR\u001b[0;0m|\u001b[1;31mR\u001b[0;0m|\n",
            "\n",
            "\n",
            "Enter the column number (1-7): 6\n",
            "You chose column 6.\n",
            "\n",
            "It Is The AI‘s Turn.\n",
            " 1 2 3 4 5 6 7\n",
            "| | | | | | | |\n",
            "---------------\n",
            "| | | | | | | |\n",
            "---------------\n",
            "| | |\u001b[1;33;44mY\u001b[0;0m| |\u001b[1;31mR\u001b[0;0m| | |\n",
            "---------------\n",
            "| | |\u001b[1;31mR\u001b[0;0m| |\u001b[1;33;44mY\u001b[0;0m| | |\n",
            "---------------\n",
            "| |\u001b[1;31mR\u001b[0;0m|\u001b[1;31mR\u001b[0;0m|\u001b[1;33;44mY\u001b[0;0m|\u001b[1;33;44mY\u001b[0;0m|\u001b[1;33;44mY\u001b[0;0m| |\n",
            "---------------\n",
            "|\u001b[1;31mR\u001b[0;0m|\u001b[1;33;44mY\u001b[0;0m|\u001b[1;31mR\u001b[0;0m|\u001b[1;33;44mY\u001b[0;0m|\u001b[1;33;44mY\u001b[0;0m|\u001b[1;31mR\u001b[0;0m|\u001b[1;31mR\u001b[0;0m|\n",
            "\n",
            "\n",
            "\n",
            "AI Thinking...\n",
            "R -1\n",
            "R -1\n",
            "R -1\n",
            "R -1\n",
            "R 0.25\n",
            "R -1\n",
            "R -1\n",
            "AI chose column 7.\n",
            "\n",
            "It Is Your Turn.\n",
            " 1 2 3 4 5 6 7\n",
            "| | | | | | | |\n",
            "---------------\n",
            "| | | | | | | |\n",
            "---------------\n",
            "| | |\u001b[1;33;44mY\u001b[0;0m| |\u001b[1;31mR\u001b[0;0m| | |\n",
            "---------------\n",
            "| | |\u001b[1;31mR\u001b[0;0m| |\u001b[1;33;44mY\u001b[0;0m| | |\n",
            "---------------\n",
            "| |\u001b[1;31mR\u001b[0;0m|\u001b[1;31mR\u001b[0;0m|\u001b[1;33;44mY\u001b[0;0m|\u001b[1;33;44mY\u001b[0;0m|\u001b[1;33;44mY\u001b[0;0m|\u001b[1;31mR\u001b[0;0m|\n",
            "---------------\n",
            "|\u001b[1;31mR\u001b[0;0m|\u001b[1;33;44mY\u001b[0;0m|\u001b[1;31mR\u001b[0;0m|\u001b[1;33;44mY\u001b[0;0m|\u001b[1;33;44mY\u001b[0;0m|\u001b[1;31mR\u001b[0;0m|\u001b[1;31mR\u001b[0;0m|\n",
            "\n",
            "\n",
            "Enter the column number (1-7): 3\n",
            "You chose column 3.\n",
            "\n",
            "It Is The AI‘s Turn.\n",
            " 1 2 3 4 5 6 7\n",
            "| | | | | | | |\n",
            "---------------\n",
            "| | |\u001b[1;33;44mY\u001b[0;0m| | | | |\n",
            "---------------\n",
            "| | |\u001b[1;33;44mY\u001b[0;0m| |\u001b[1;31mR\u001b[0;0m| | |\n",
            "---------------\n",
            "| | |\u001b[1;31mR\u001b[0;0m| |\u001b[1;33;44mY\u001b[0;0m| | |\n",
            "---------------\n",
            "| |\u001b[1;31mR\u001b[0;0m|\u001b[1;31mR\u001b[0;0m|\u001b[1;33;44mY\u001b[0;0m|\u001b[1;33;44mY\u001b[0;0m|\u001b[1;33;44mY\u001b[0;0m|\u001b[1;31mR\u001b[0;0m|\n",
            "---------------\n",
            "|\u001b[1;31mR\u001b[0;0m|\u001b[1;33;44mY\u001b[0;0m|\u001b[1;31mR\u001b[0;0m|\u001b[1;33;44mY\u001b[0;0m|\u001b[1;33;44mY\u001b[0;0m|\u001b[1;31mR\u001b[0;0m|\u001b[1;31mR\u001b[0;0m|\n",
            "\n",
            "\n",
            "\n",
            "AI Thinking...\n",
            "R 0.25\n",
            "R -0.9\n",
            "R -1\n",
            "R -0.9\n",
            "R -0.9\n",
            "R -0.9\n",
            "R 0.25\n",
            "AI chose column 6.\n",
            "\n",
            "It Is Your Turn.\n",
            " 1 2 3 4 5 6 7\n",
            "| | | | | | | |\n",
            "---------------\n",
            "| | |\u001b[1;33;44mY\u001b[0;0m| | | | |\n",
            "---------------\n",
            "| | |\u001b[1;33;44mY\u001b[0;0m| |\u001b[1;31mR\u001b[0;0m| | |\n",
            "---------------\n",
            "| | |\u001b[1;31mR\u001b[0;0m| |\u001b[1;33;44mY\u001b[0;0m|\u001b[1;31mR\u001b[0;0m| |\n",
            "---------------\n",
            "| |\u001b[1;31mR\u001b[0;0m|\u001b[1;31mR\u001b[0;0m|\u001b[1;33;44mY\u001b[0;0m|\u001b[1;33;44mY\u001b[0;0m|\u001b[1;33;44mY\u001b[0;0m|\u001b[1;31mR\u001b[0;0m|\n",
            "---------------\n",
            "|\u001b[1;31mR\u001b[0;0m|\u001b[1;33;44mY\u001b[0;0m|\u001b[1;31mR\u001b[0;0m|\u001b[1;33;44mY\u001b[0;0m|\u001b[1;33;44mY\u001b[0;0m|\u001b[1;31mR\u001b[0;0m|\u001b[1;31mR\u001b[0;0m|\n",
            "\n",
            "\n",
            "Enter the column number (1-7): 6\n",
            "You chose column 6.\n",
            "\n",
            "It Is The AI‘s Turn.\n",
            " 1 2 3 4 5 6 7\n",
            "| | | | | | | |\n",
            "---------------\n",
            "| | |\u001b[1;33;44mY\u001b[0;0m| | | | |\n",
            "---------------\n",
            "| | |\u001b[1;33;44mY\u001b[0;0m| |\u001b[1;31mR\u001b[0;0m|\u001b[1;33;44mY\u001b[0;0m| |\n",
            "---------------\n",
            "| | |\u001b[1;31mR\u001b[0;0m| |\u001b[1;33;44mY\u001b[0;0m|\u001b[1;31mR\u001b[0;0m| |\n",
            "---------------\n",
            "| |\u001b[1;31mR\u001b[0;0m|\u001b[1;31mR\u001b[0;0m|\u001b[1;33;44mY\u001b[0;0m|\u001b[1;33;44mY\u001b[0;0m|\u001b[1;33;44mY\u001b[0;0m|\u001b[1;31mR\u001b[0;0m|\n",
            "---------------\n",
            "|\u001b[1;31mR\u001b[0;0m|\u001b[1;33;44mY\u001b[0;0m|\u001b[1;31mR\u001b[0;0m|\u001b[1;33;44mY\u001b[0;0m|\u001b[1;33;44mY\u001b[0;0m|\u001b[1;31mR\u001b[0;0m|\u001b[1;31mR\u001b[0;0m|\n",
            "\n",
            "\n",
            "\n",
            "AI Thinking...\n",
            "R 0.25\n",
            "R 0.25\n",
            "R 1\n",
            "R -1\n",
            "R 0.25\n",
            "R 0.25\n",
            "R 0.25\n",
            "AI chose column 6.\n",
            "\n",
            "It Is Your Turn.\n",
            " 1 2 3 4 5 6 7\n",
            "| | | | | | | |\n",
            "---------------\n",
            "| | |\u001b[1;33;44mY\u001b[0;0m| | |\u001b[1;31mR\u001b[0;0m| |\n",
            "---------------\n",
            "| | |\u001b[1;33;44mY\u001b[0;0m| |\u001b[1;31mR\u001b[0;0m|\u001b[1;33;44mY\u001b[0;0m| |\n",
            "---------------\n",
            "| | |\u001b[1;31mR\u001b[0;0m| |\u001b[1;33;44mY\u001b[0;0m|\u001b[1;31mR\u001b[0;0m| |\n",
            "---------------\n",
            "| |\u001b[1;31mR\u001b[0;0m|\u001b[1;31mR\u001b[0;0m|\u001b[1;33;44mY\u001b[0;0m|\u001b[1;33;44mY\u001b[0;0m|\u001b[1;33;44mY\u001b[0;0m|\u001b[1;31mR\u001b[0;0m|\n",
            "---------------\n",
            "|\u001b[1;31mR\u001b[0;0m|\u001b[1;33;44mY\u001b[0;0m|\u001b[1;31mR\u001b[0;0m|\u001b[1;33;44mY\u001b[0;0m|\u001b[1;33;44mY\u001b[0;0m|\u001b[1;31mR\u001b[0;0m|\u001b[1;31mR\u001b[0;0m|\n",
            "\n",
            "\n",
            "Enter the column number (1-7): 4\n",
            "You chose column 4.\n",
            "\n",
            "It Is The AI‘s Turn.\n",
            " 1 2 3 4 5 6 7\n",
            "| | | | | | | |\n",
            "---------------\n",
            "| | |\u001b[1;33;44mY\u001b[0;0m| | |\u001b[1;31mR\u001b[0;0m| |\n",
            "---------------\n",
            "| | |\u001b[1;33;44mY\u001b[0;0m| |\u001b[1;31mR\u001b[0;0m|\u001b[1;33;44mY\u001b[0;0m| |\n",
            "---------------\n",
            "| | |\u001b[1;31mR\u001b[0;0m|\u001b[1;33;44mY\u001b[0;0m|\u001b[1;33;44mY\u001b[0;0m|\u001b[1;31mR\u001b[0;0m| |\n",
            "---------------\n",
            "| |\u001b[1;31mR\u001b[0;0m|\u001b[1;31mR\u001b[0;0m|\u001b[1;33;44mY\u001b[0;0m|\u001b[1;33;44mY\u001b[0;0m|\u001b[1;33;44mY\u001b[0;0m|\u001b[1;31mR\u001b[0;0m|\n",
            "---------------\n",
            "|\u001b[1;31mR\u001b[0;0m|\u001b[1;33;44mY\u001b[0;0m|\u001b[1;31mR\u001b[0;0m|\u001b[1;33;44mY\u001b[0;0m|\u001b[1;33;44mY\u001b[0;0m|\u001b[1;31mR\u001b[0;0m|\u001b[1;31mR\u001b[0;0m|\n",
            "\n",
            "\n",
            "\n",
            "AI Thinking...\n",
            "R -1\n",
            "R -1\n",
            "R -1\n",
            "R -1\n",
            "R -1\n",
            "R -1\n",
            "R 1\n",
            "AI chose column 4.\n",
            " 1 2 3 4 5 6 7\n",
            "| | | | | | | |\n",
            "---------------\n",
            "| | |\u001b[1;33;44mY\u001b[0;0m| | |\u001b[1;31mR\u001b[0;0m| |\n",
            "---------------\n",
            "| | |\u001b[1;33;44mY\u001b[0;0m|\u001b[1;31mR\u001b[0;0m|\u001b[1;31mR\u001b[0;0m|\u001b[1;33;44mY\u001b[0;0m| |\n",
            "---------------\n",
            "| | |\u001b[1;31mR\u001b[0;0m|\u001b[1;33;44mY\u001b[0;0m|\u001b[1;33;44mY\u001b[0;0m|\u001b[1;31mR\u001b[0;0m| |\n",
            "---------------\n",
            "| |\u001b[1;31mR\u001b[0;0m|\u001b[1;31mR\u001b[0;0m|\u001b[1;33;44mY\u001b[0;0m|\u001b[1;33;44mY\u001b[0;0m|\u001b[1;33;44mY\u001b[0;0m|\u001b[1;31mR\u001b[0;0m|\n",
            "---------------\n",
            "|\u001b[1;31mR\u001b[0;0m|\u001b[1;33;44mY\u001b[0;0m|\u001b[1;31mR\u001b[0;0m|\u001b[1;33;44mY\u001b[0;0m|\u001b[1;33;44mY\u001b[0;0m|\u001b[1;31mR\u001b[0;0m|\u001b[1;31mR\u001b[0;0m|\n",
            "\n",
            "\n",
            "\n",
            "AI Wins!\n"
          ]
        }
      ],
      "source": [
        "play()"
      ]
    }
  ],
  "metadata": {
    "kernelspec": {
      "display_name": "Python 3",
      "language": "python",
      "name": "python3"
    },
    "language_info": {
      "codemirror_mode": {
        "name": "ipython",
        "version": 3
      },
      "file_extension": ".py",
      "mimetype": "text/x-python",
      "name": "python",
      "nbconvert_exporter": "python",
      "pygments_lexer": "ipython3",
      "version": "3.8.8"
    },
    "colab": {
      "name": "Connect 4 AI.ipynb",
      "provenance": [],
      "collapsed_sections": []
    }
  },
  "nbformat": 4,
  "nbformat_minor": 0
}